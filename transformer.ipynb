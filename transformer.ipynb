{
 "cells": [
  {
   "cell_type": "code",
   "execution_count": 1,
   "metadata": {},
   "outputs": [],
   "source": [
    "import torch"
   ]
  },
  {
   "cell_type": "code",
   "execution_count": 2,
   "metadata": {},
   "outputs": [
    {
     "data": {
      "text/plain": [
       "'2.1.1+cu121'"
      ]
     },
     "execution_count": 2,
     "metadata": {},
     "output_type": "execute_result"
    }
   ],
   "source": [
    "torch.__version__"
   ]
  },
  {
   "cell_type": "code",
   "execution_count": 3,
   "metadata": {},
   "outputs": [],
   "source": [
    "device = \"cuda\" if torch.cuda.is_available() else \"cpu\""
   ]
  },
  {
   "cell_type": "code",
   "execution_count": 4,
   "metadata": {},
   "outputs": [],
   "source": [
    "import os"
   ]
  },
  {
   "cell_type": "code",
   "execution_count": 5,
   "metadata": {},
   "outputs": [],
   "source": [
    "import numpy as np\n",
    "import pandas as pd\n",
    "import matplotlib.pyplot as plt"
   ]
  },
  {
   "cell_type": "code",
   "execution_count": 6,
   "metadata": {},
   "outputs": [],
   "source": [
    "from torch.nn import Module\n",
    "from torch.nn import TransformerEncoderLayer\n",
    "from torch.nn import TransformerEncoder\n",
    "from torch.nn import TransformerDecoderLayer\n",
    "from torch.nn import TransformerDecoder\n",
    "from torch.nn import LayerNorm\n",
    "from torch.nn import BatchNorm1d\n",
    "from torch.nn import Linear\n",
    "\n",
    "from torch import optim\n",
    "from torch.optim import Adam\n",
    "from torch.nn import functional as F\n",
    "from torch.nn.functional import mse_loss\n",
    "\n",
    "import torch.utils.data as Data\n",
    "from torch.utils.data import Dataset\n",
    "from torch.utils.data import DataLoader\n",
    "\n",
    "from tqdm import tqdm"
   ]
  },
  {
   "cell_type": "code",
   "execution_count": 7,
   "metadata": {},
   "outputs": [
    {
     "data": {
      "text/html": [
       "<div>\n",
       "<style scoped>\n",
       "    .dataframe tbody tr th:only-of-type {\n",
       "        vertical-align: middle;\n",
       "    }\n",
       "\n",
       "    .dataframe tbody tr th {\n",
       "        vertical-align: top;\n",
       "    }\n",
       "\n",
       "    .dataframe thead th {\n",
       "        text-align: right;\n",
       "    }\n",
       "</style>\n",
       "<table border=\"1\" class=\"dataframe\">\n",
       "  <thead>\n",
       "    <tr style=\"text-align: right;\">\n",
       "      <th></th>\n",
       "      <th>Close</th>\n",
       "    </tr>\n",
       "    <tr>\n",
       "      <th>Date</th>\n",
       "      <th></th>\n",
       "    </tr>\n",
       "  </thead>\n",
       "  <tbody>\n",
       "    <tr>\n",
       "      <th>2004-01-02</th>\n",
       "      <td>12.661377</td>\n",
       "    </tr>\n",
       "    <tr>\n",
       "      <th>2004-01-05</th>\n",
       "      <td>12.597076</td>\n",
       "    </tr>\n",
       "    <tr>\n",
       "      <th>2004-01-06</th>\n",
       "      <td>12.724485</td>\n",
       "    </tr>\n",
       "    <tr>\n",
       "      <th>2004-01-07</th>\n",
       "      <td>12.622449</td>\n",
       "    </tr>\n",
       "    <tr>\n",
       "      <th>2004-01-08</th>\n",
       "      <td>12.665998</td>\n",
       "    </tr>\n",
       "  </tbody>\n",
       "</table>\n",
       "</div>"
      ],
      "text/plain": [
       "                Close\n",
       "Date                 \n",
       "2004-01-02  12.661377\n",
       "2004-01-05  12.597076\n",
       "2004-01-06  12.724485\n",
       "2004-01-07  12.622449\n",
       "2004-01-08  12.665998"
      ]
     },
     "execution_count": 7,
     "metadata": {},
     "output_type": "execute_result"
    }
   ],
   "source": [
    "df = pd.read_csv(\"./preprocessed-data/krwvnd.csv\", index_col=\"Date\")\n",
    "df.head()"
   ]
  },
  {
   "cell_type": "code",
   "execution_count": 8,
   "metadata": {},
   "outputs": [],
   "source": [
    "def get_date(x): \n",
    "    return pd.to_datetime(x).date()"
   ]
  },
  {
   "cell_type": "code",
   "execution_count": 9,
   "metadata": {},
   "outputs": [],
   "source": [
    "df.index = df.index.map(lambda x: get_date(x))"
   ]
  },
  {
   "cell_type": "code",
   "execution_count": 10,
   "metadata": {},
   "outputs": [
    {
     "data": {
      "text/plain": [
       "Index([2004-01-02, 2004-01-05, 2004-01-06, 2004-01-07, 2004-01-08, 2004-01-09,\n",
       "       2004-01-12, 2004-01-13, 2004-01-14, 2004-01-15,\n",
       "       ...\n",
       "       2023-10-22, 2023-10-23, 2023-10-24, 2023-10-25, 2023-10-26, 2023-10-27,\n",
       "       2023-10-28, 2023-10-29, 2023-10-30, 2023-10-31],\n",
       "      dtype='object', name='Date', length=5979)"
      ]
     },
     "execution_count": 10,
     "metadata": {},
     "output_type": "execute_result"
    }
   ],
   "source": [
    "df.index"
   ]
  },
  {
   "cell_type": "code",
   "execution_count": 11,
   "metadata": {},
   "outputs": [],
   "source": [
    "def min_max_normalization(x, min, max):\n",
    "    return (x - min) / (max - min)"
   ]
  },
  {
   "cell_type": "code",
   "execution_count": 12,
   "metadata": {},
   "outputs": [],
   "source": [
    "def get_feat(x):\n",
    "    return [min_max_normalization(x.year, 2004, 2023), min_max_normalization(x.month, 1, 12), min_max_normalization(x.day, 1, 31)]"
   ]
  },
  {
   "cell_type": "code",
   "execution_count": 13,
   "metadata": {},
   "outputs": [],
   "source": [
    "def get_features(data, _from, _to):\n",
    "    return [get_feat(x) for x in data.iloc[_from:_to].index]\n",
    "    return data.iloc[_from:_to].index.map(lambda x: [get_date(x).year, get_date(x).month, get_date(x).day]).to_list()"
   ]
  },
  {
   "cell_type": "code",
   "execution_count": 14,
   "metadata": {},
   "outputs": [],
   "source": [
    "def get_values(data, _from, _to):\n",
    "    return data.iloc[_from:_to].Close.to_list()"
   ]
  },
  {
   "cell_type": "code",
   "execution_count": 15,
   "metadata": {},
   "outputs": [],
   "source": [
    "from transformers import TimeSeriesTransformerConfig, TimeSeriesTransformerForPrediction\n",
    "\n",
    "# Initializing a Time Series Transformer configuration with 30 time steps for prediction\n",
    "configuration = TimeSeriesTransformerConfig(context_length=96, \n",
    "                                            prediction_length=30,\n",
    "                                            num_time_features=3\n",
    "                                            # num_static_categorical_features=64,\n",
    "                                            # num_static_real_features=64,\n",
    "                                            )\n",
    "\n",
    "# Randomly initializing a model (with random weights) from the configuration\n",
    "model = TimeSeriesTransformerForPrediction(configuration).to(device)\n",
    "\n",
    "# Accessing the model configuration\n",
    "configuration = model.config"
   ]
  },
  {
   "cell_type": "code",
   "execution_count": 16,
   "metadata": {},
   "outputs": [],
   "source": [
    "# refered: https://pseudo-lab.github.io/Tutorial-Book/chapters/time-series/Ch3-preprocessing.html\n",
    "def create_sequences(data, context_len, prediction_len):\n",
    "    batch_data = []\n",
    "    for i in tqdm(range(len(data)-context_len-prediction_len+1)):\n",
    "        x = get_values(data, i, i+context_len)\n",
    "        y = get_values(data, i+context_len, i+context_len+prediction_len)\n",
    "\n",
    "        x_feat = get_features(data, i, i+context_len)\n",
    "        y_feat = get_features(data, i+context_len, i+context_len+prediction_len)\n",
    "        batch_data.append({\n",
    "            \"past_values\": torch.Tensor(x).type(torch.FloatTensor),\n",
    "            \"future_values\": torch.Tensor(y).type(torch.FloatTensor),\n",
    "            \"past_time_features\": torch.Tensor(x_feat).type(torch.FloatTensor),\n",
    "            \"future_time_features\": torch.Tensor(y_feat).type(torch.FloatTensor),\n",
    "            \"past_observed_mask\": torch.Tensor(np.ones(context_len, dtype=bool)).type(torch.BoolTensor),\n",
    "            \"future_observed_mask\": torch.Tensor(np.ones(context_len, dtype=bool)).type(torch.BoolTensor),\n",
    "        })\n",
    "\n",
    "    return batch_data"
   ]
  },
  {
   "cell_type": "code",
   "execution_count": 17,
   "metadata": {},
   "outputs": [],
   "source": [
    "class CustomDataset(Dataset):\n",
    "    def __init__(self, mode=\"train\", context_len=96, prediction_len=12):\n",
    "        df = pd.read_csv(\"./preprocessed-data/krwvnd.csv\", index_col=\"Date\")\n",
    "        df.index = df.index.map(lambda x: get_date(x))\n",
    "        df[\"Close\"] = df[\"Close\"].map(lambda x: float(x))\n",
    "        df = df.div(df.iloc[0])\n",
    "\n",
    "        train_size = int(len(df) * 0.8)\n",
    "\n",
    "        if mode == \"train\":\n",
    "            self.data = create_sequences(df[:train_size], context_len+max(configuration.lags_sequence), prediction_len)\n",
    "        elif mode == \"valid\":\n",
    "            self.data = create_sequences(df[train_size:], context_len+max(configuration.lags_sequence), prediction_len)\n",
    "        # else:\n",
    "\n",
    "        \n",
    "    def __len__(self):\n",
    "        return len(self.data)\n",
    "\n",
    "    def __getitem__(self, idx):\n",
    "        return self.data[idx]"
   ]
  },
  {
   "cell_type": "code",
   "execution_count": 18,
   "metadata": {},
   "outputs": [],
   "source": [
    "EPOCH = 100\n",
    "BATCH_SIZE = 256\n",
    "LEARNING_RATE = 1e-3\n",
    "MODEL_PATH = \"./models\""
   ]
  },
  {
   "cell_type": "code",
   "execution_count": 19,
   "metadata": {},
   "outputs": [
    {
     "name": "stderr",
     "output_type": "stream",
     "text": [
      "100%|██████████| 4651/4651 [00:02<00:00, 1709.45it/s]\n",
      "100%|██████████| 1064/1064 [00:00<00:00, 1676.86it/s]\n"
     ]
    }
   ],
   "source": [
    "dataset = CustomDataset(mode=\"train\", context_len=96, prediction_len=30)\n",
    "train_loader = DataLoader(dataset, batch_size=BATCH_SIZE, shuffle=True)\n",
    "dataset = CustomDataset(mode=\"valid\", context_len=96, prediction_len=30)\n",
    "valid_loader = DataLoader(dataset, batch_size=BATCH_SIZE, shuffle=True)"
   ]
  },
  {
   "cell_type": "code",
   "execution_count": 20,
   "metadata": {},
   "outputs": [],
   "source": [
    "optimizer = Adam(model.parameters(), lr=LEARNING_RATE)"
   ]
  },
  {
   "cell_type": "code",
   "execution_count": 21,
   "metadata": {},
   "outputs": [
    {
     "data": {
      "text/plain": [
       "136003"
      ]
     },
     "execution_count": 21,
     "metadata": {},
     "output_type": "execute_result"
    }
   ],
   "source": [
    "sum(p.numel() for p in model.parameters())"
   ]
  },
  {
   "cell_type": "code",
   "execution_count": 92,
   "metadata": {},
   "outputs": [
    {
     "name": "stderr",
     "output_type": "stream",
     "text": [
      "[Epoch   1/100]: 100%|██████████| 19/19 [00:10<00:00,  1.86it/s, train_loss=1.34, valid_loss=0.78]\n",
      "[Epoch   2/100]: 100%|██████████| 19/19 [00:10<00:00,  1.83it/s, train_loss=0.505, valid_loss=0.303]\n",
      "[Epoch   3/100]: 100%|██████████| 19/19 [00:10<00:00,  1.88it/s, train_loss=0.153, valid_loss=-.0121]\n",
      "[Epoch   4/100]: 100%|██████████| 19/19 [00:11<00:00,  1.71it/s, train_loss=-.159, valid_loss=-.222]\n",
      "[Epoch   5/100]: 100%|██████████| 19/19 [00:09<00:00,  1.95it/s, train_loss=-.376, valid_loss=-.438]\n",
      "[Epoch   6/100]: 100%|██████████| 19/19 [00:09<00:00,  1.91it/s, train_loss=-.529, valid_loss=-.591]\n",
      "[Epoch   7/100]: 100%|██████████| 19/19 [00:09<00:00,  2.06it/s, train_loss=-.559, valid_loss=-.554]\n",
      "[Epoch   8/100]: 100%|██████████| 19/19 [00:09<00:00,  2.07it/s, train_loss=-.738, valid_loss=-.801]\n",
      "[Epoch   9/100]: 100%|██████████| 19/19 [00:09<00:00,  1.96it/s, train_loss=-.804, valid_loss=-.875]\n",
      "[Epoch  10/100]: 100%|██████████| 19/19 [00:09<00:00,  1.93it/s, train_loss=-.862, valid_loss=-.853]\n",
      "[Epoch  11/100]: 100%|██████████| 19/19 [00:09<00:00,  2.08it/s, train_loss=-.848, valid_loss=-.998]\n",
      "[Epoch  12/100]: 100%|██████████| 19/19 [00:09<00:00,  1.99it/s, train_loss=-.753, valid_loss=-.678]\n",
      "[Epoch  13/100]: 100%|██████████| 19/19 [00:12<00:00,  1.56it/s, train_loss=-.906, valid_loss=-1.06]\n",
      "[Epoch  14/100]: 100%|██████████| 19/19 [00:09<00:00,  1.90it/s, train_loss=-1, valid_loss=-.929]\n",
      "[Epoch  15/100]: 100%|██████████| 19/19 [00:09<00:00,  2.01it/s, train_loss=-1.06, valid_loss=-1.16]\n",
      "[Epoch  16/100]: 100%|██████████| 19/19 [00:11<00:00,  1.70it/s, train_loss=-1.16, valid_loss=-1.19]\n",
      "[Epoch  17/100]: 100%|██████████| 19/19 [00:11<00:00,  1.59it/s, train_loss=-1.2, valid_loss=-1.26]\n",
      "[Epoch  18/100]: 100%|██████████| 19/19 [00:08<00:00,  2.13it/s, train_loss=-1.13, valid_loss=-1.2]\n",
      "[Epoch  19/100]: 100%|██████████| 19/19 [00:09<00:00,  1.91it/s, train_loss=-1.18, valid_loss=-1.33]\n",
      "[Epoch  20/100]: 100%|██████████| 19/19 [00:10<00:00,  1.85it/s, train_loss=-1.24, valid_loss=-1.17]\n",
      "[Epoch  21/100]: 100%|██████████| 19/19 [00:10<00:00,  1.78it/s, train_loss=-1.26, valid_loss=-1.15]\n",
      "[Epoch  22/100]: 100%|██████████| 19/19 [00:10<00:00,  1.79it/s, train_loss=-1.26, valid_loss=-1.38]\n",
      "[Epoch  23/100]: 100%|██████████| 19/19 [00:10<00:00,  1.81it/s, train_loss=-1.27, valid_loss=-1.41]\n",
      "[Epoch  24/100]: 100%|██████████| 19/19 [00:09<00:00,  1.93it/s, train_loss=-1.3, valid_loss=-1.36]\n",
      "[Epoch  25/100]: 100%|██████████| 19/19 [00:09<00:00,  1.90it/s, train_loss=-1.32, valid_loss=-1.34]\n",
      "[Epoch  26/100]: 100%|██████████| 19/19 [00:11<00:00,  1.71it/s, train_loss=-1.3, valid_loss=-1.44]\n",
      "[Epoch  27/100]: 100%|██████████| 19/19 [00:13<00:00,  1.37it/s, train_loss=-1.31, valid_loss=-1.29]\n",
      "[Epoch  28/100]: 100%|██████████| 19/19 [00:16<00:00,  1.19it/s, train_loss=-1.33, valid_loss=-1.3]\n",
      "[Epoch  29/100]: 100%|██████████| 19/19 [00:10<00:00,  1.83it/s, train_loss=-1.35, valid_loss=-1.25]\n",
      "[Epoch  30/100]: 100%|██████████| 19/19 [00:09<00:00,  1.98it/s, train_loss=-1.35, valid_loss=-1.47]\n",
      "[Epoch  31/100]: 100%|██████████| 19/19 [00:10<00:00,  1.89it/s, train_loss=-1.4, valid_loss=-1.31]\n",
      "[Epoch  32/100]: 100%|██████████| 19/19 [00:10<00:00,  1.78it/s, train_loss=-1.38, valid_loss=-1.44]\n",
      "[Epoch  33/100]: 100%|██████████| 19/19 [00:10<00:00,  1.80it/s, train_loss=-1.29, valid_loss=-1.42]\n",
      "[Epoch  34/100]: 100%|██████████| 19/19 [00:11<00:00,  1.64it/s, train_loss=-1.27, valid_loss=-1.54]\n",
      "[Epoch  35/100]: 100%|██████████| 19/19 [00:11<00:00,  1.67it/s, train_loss=-1.28, valid_loss=-1.37]\n",
      "[Epoch  36/100]: 100%|██████████| 19/19 [00:11<00:00,  1.69it/s, train_loss=-1.27, valid_loss=-1.19]\n",
      "[Epoch  37/100]: 100%|██████████| 19/19 [00:10<00:00,  1.87it/s, train_loss=-1.32, valid_loss=-1.55]\n",
      "[Epoch  38/100]: 100%|██████████| 19/19 [00:10<00:00,  1.82it/s, train_loss=-1.37, valid_loss=-1.48]\n",
      "[Epoch  39/100]: 100%|██████████| 19/19 [00:09<00:00,  2.11it/s, train_loss=-1.38, valid_loss=-1.52]\n",
      "[Epoch  40/100]: 100%|██████████| 19/19 [00:10<00:00,  1.83it/s, train_loss=-1.37, valid_loss=-1.53]\n",
      "[Epoch  41/100]: 100%|██████████| 19/19 [00:09<00:00,  2.08it/s, train_loss=-1.39, valid_loss=-1.48]\n",
      "[Epoch  42/100]: 100%|██████████| 19/19 [00:09<00:00,  2.07it/s, train_loss=-1.41, valid_loss=-1.32]\n",
      "[Epoch  43/100]: 100%|██████████| 19/19 [00:10<00:00,  1.84it/s, train_loss=-1.4, valid_loss=-1.09]\n",
      "[Epoch  44/100]: 100%|██████████| 19/19 [00:10<00:00,  1.89it/s, train_loss=-1.38, valid_loss=-1.44]\n",
      "[Epoch  45/100]: 100%|██████████| 19/19 [00:11<00:00,  1.66it/s, train_loss=-1.41, valid_loss=-1.43]\n",
      "[Epoch  46/100]: 100%|██████████| 19/19 [00:11<00:00,  1.72it/s, train_loss=-1.45, valid_loss=-1.56]\n",
      "[Epoch  47/100]: 100%|██████████| 19/19 [00:10<00:00,  1.76it/s, train_loss=-1.35, valid_loss=-1.37]\n",
      "[Epoch  48/100]: 100%|██████████| 19/19 [00:10<00:00,  1.80it/s, train_loss=-1.37, valid_loss=-1.52]\n",
      "[Epoch  49/100]: 100%|██████████| 19/19 [00:10<00:00,  1.76it/s, train_loss=-1.3, valid_loss=-1.08]\n",
      "[Epoch  50/100]: 100%|██████████| 19/19 [00:09<00:00,  1.93it/s, train_loss=-1.27, valid_loss=-.581]\n",
      "[Epoch  51/100]: 100%|██████████| 19/19 [00:10<00:00,  1.79it/s, train_loss=-1.15, valid_loss=-1.39]\n",
      "[Epoch  52/100]: 100%|██████████| 19/19 [00:10<00:00,  1.75it/s, train_loss=-1.4, valid_loss=-1.55]\n",
      "[Epoch  53/100]: 100%|██████████| 19/19 [00:09<00:00,  2.01it/s, train_loss=-1.38, valid_loss=-1.39]\n",
      "[Epoch  54/100]: 100%|██████████| 19/19 [00:11<00:00,  1.72it/s, train_loss=-1.43, valid_loss=-1.51]\n",
      "[Epoch  55/100]: 100%|██████████| 19/19 [00:10<00:00,  1.82it/s, train_loss=-1.43, valid_loss=-1.53]\n",
      "[Epoch  56/100]: 100%|██████████| 19/19 [00:11<00:00,  1.73it/s, train_loss=-1.44, valid_loss=-1.27]\n",
      "[Epoch  57/100]: 100%|██████████| 19/19 [00:11<00:00,  1.67it/s, train_loss=-1.45, valid_loss=-1.51]\n",
      "[Epoch  58/100]: 100%|██████████| 19/19 [00:10<00:00,  1.85it/s, train_loss=-1.44, valid_loss=-1.32]\n",
      "[Epoch  59/100]: 100%|██████████| 19/19 [00:12<00:00,  1.47it/s, train_loss=-1.45, valid_loss=-1.41]\n",
      "[Epoch  60/100]: 100%|██████████| 19/19 [00:09<00:00,  2.07it/s, train_loss=-1.4, valid_loss=-1.09]\n",
      "[Epoch  61/100]: 100%|██████████| 19/19 [00:13<00:00,  1.39it/s, train_loss=-1.44, valid_loss=-1.54]\n",
      "[Epoch  62/100]: 100%|██████████| 19/19 [00:10<00:00,  1.83it/s, train_loss=-1.38, valid_loss=-1.62]\n",
      "[Epoch  63/100]: 100%|██████████| 19/19 [00:13<00:00,  1.38it/s, train_loss=-1.41, valid_loss=-1.45]\n",
      "[Epoch  64/100]: 100%|██████████| 19/19 [00:11<00:00,  1.72it/s, train_loss=-1.48, valid_loss=-1.6]\n",
      "[Epoch  65/100]: 100%|██████████| 19/19 [00:09<00:00,  1.92it/s, train_loss=-1.41, valid_loss=-1.46]\n",
      "[Epoch  66/100]: 100%|██████████| 19/19 [00:09<00:00,  1.98it/s, train_loss=-1.47, valid_loss=-1.51]\n",
      "[Epoch  67/100]: 100%|██████████| 19/19 [00:11<00:00,  1.71it/s, train_loss=-1.55, valid_loss=-.447]\n",
      "[Epoch  68/100]: 100%|██████████| 19/19 [00:10<00:00,  1.78it/s, train_loss=-1.31, valid_loss=-1.35]\n",
      "[Epoch  69/100]: 100%|██████████| 19/19 [00:11<00:00,  1.68it/s, train_loss=-1.54, valid_loss=-1.58]\n",
      "[Epoch  70/100]: 100%|██████████| 19/19 [00:10<00:00,  1.77it/s, train_loss=-1.43, valid_loss=-1.62]\n",
      "[Epoch  71/100]: 100%|██████████| 19/19 [00:09<00:00,  1.96it/s, train_loss=-1.45, valid_loss=-1.7]\n",
      "[Epoch  72/100]: 100%|██████████| 19/19 [00:10<00:00,  1.84it/s, train_loss=-1.58, valid_loss=-1.43]\n",
      "[Epoch  73/100]: 100%|██████████| 19/19 [00:10<00:00,  1.80it/s, train_loss=-1.28, valid_loss=-.0253]\n",
      "[Epoch  74/100]: 100%|██████████| 19/19 [00:10<00:00,  1.80it/s, train_loss=-1.11, valid_loss=-1.67]\n",
      "[Epoch  75/100]: 100%|██████████| 19/19 [00:10<00:00,  1.78it/s, train_loss=-1.45, valid_loss=-1.3]\n",
      "[Epoch  76/100]: 100%|██████████| 19/19 [00:11<00:00,  1.65it/s, train_loss=-1.5, valid_loss=-1.3]\n",
      "[Epoch  77/100]: 100%|██████████| 19/19 [00:12<00:00,  1.47it/s, train_loss=-1.69, valid_loss=-1.86]\n",
      "[Epoch  78/100]: 100%|██████████| 19/19 [00:11<00:00,  1.65it/s, train_loss=-1.73, valid_loss=-1.69]\n",
      "[Epoch  79/100]: 100%|██████████| 19/19 [00:11<00:00,  1.71it/s, train_loss=-1.81, valid_loss=-1.8]\n",
      "[Epoch  80/100]: 100%|██████████| 19/19 [00:10<00:00,  1.77it/s, train_loss=-1.85, valid_loss=-1.81]\n",
      "[Epoch  81/100]: 100%|██████████| 19/19 [00:11<00:00,  1.69it/s, train_loss=-1.85, valid_loss=-1.85]\n",
      "[Epoch  82/100]: 100%|██████████| 19/19 [00:11<00:00,  1.66it/s, train_loss=-1.89, valid_loss=-1.33]\n",
      "[Epoch  83/100]: 100%|██████████| 19/19 [00:11<00:00,  1.69it/s, train_loss=-1.6, valid_loss=-1.92]\n",
      "[Epoch  84/100]: 100%|██████████| 19/19 [00:12<00:00,  1.50it/s, train_loss=-1.75, valid_loss=-1.96]\n",
      "[Epoch  85/100]: 100%|██████████| 19/19 [00:11<00:00,  1.62it/s, train_loss=-1.89, valid_loss=-.912]\n",
      "[Epoch  86/100]: 100%|██████████| 19/19 [00:10<00:00,  1.76it/s, train_loss=-1.79, valid_loss=-1.54]\n",
      "[Epoch  87/100]: 100%|██████████| 19/19 [00:10<00:00,  1.77it/s, train_loss=-1.59, valid_loss=-1.65]\n",
      "[Epoch  88/100]: 100%|██████████| 19/19 [00:11<00:00,  1.59it/s, train_loss=-1, valid_loss=-1.89]\n",
      "[Epoch  89/100]: 100%|██████████| 19/19 [00:10<00:00,  1.74it/s, train_loss=-1.36, valid_loss=-1.83]\n",
      "[Epoch  90/100]: 100%|██████████| 19/19 [00:11<00:00,  1.71it/s, train_loss=-1.73, valid_loss=-1.88]\n",
      "[Epoch  91/100]: 100%|██████████| 19/19 [00:11<00:00,  1.69it/s, train_loss=-1.7, valid_loss=-1.31]\n",
      "[Epoch  92/100]: 100%|██████████| 19/19 [00:10<00:00,  1.78it/s, train_loss=-1.79, valid_loss=-1.98]\n",
      "[Epoch  93/100]: 100%|██████████| 19/19 [00:10<00:00,  1.80it/s, train_loss=-1.76, valid_loss=-1.17]\n",
      "[Epoch  94/100]: 100%|██████████| 19/19 [00:12<00:00,  1.56it/s, train_loss=-1.81, valid_loss=-1.81]\n",
      "[Epoch  95/100]: 100%|██████████| 19/19 [00:11<00:00,  1.69it/s, train_loss=-1.96, valid_loss=-2.04]\n",
      "[Epoch  96/100]: 100%|██████████| 19/19 [00:10<00:00,  1.79it/s, train_loss=-1.96, valid_loss=-1.91]\n",
      "[Epoch  97/100]: 100%|██████████| 19/19 [00:10<00:00,  1.88it/s, train_loss=-1.86, valid_loss=-2.12]\n",
      "[Epoch  98/100]: 100%|██████████| 19/19 [00:11<00:00,  1.71it/s, train_loss=-1.87, valid_loss=-2.13]\n",
      "[Epoch  99/100]: 100%|██████████| 19/19 [00:09<00:00,  1.97it/s, train_loss=-1.9, valid_loss=-1.98]\n",
      "[Epoch 100/100]: 100%|██████████| 19/19 [00:10<00:00,  1.89it/s, train_loss=-1.94, valid_loss=-2.1]\n"
     ]
    }
   ],
   "source": [
    "# Prepare loss history\n",
    "hist_loss = np.zeros(EPOCH)\n",
    "hist_loss_val = np.zeros(EPOCH)\n",
    "\n",
    "# Record the best model\n",
    "valid_loss_best = np.inf\n",
    "\n",
    "for epoch in range(EPOCH):\n",
    "    train_loss = 0\n",
    "    valid_loss = 0\n",
    "    model.train()\n",
    "    with tqdm(total=len(train_loader), desc=f\"[Epoch {epoch+1:3d}/{EPOCH}]\") as pbar:\n",
    "        for idx, batch in enumerate(train_loader):\n",
    "            outputs = model(\n",
    "                past_values=batch[\"past_values\"].to(device),\n",
    "                past_time_features=batch[\"past_time_features\"].to(device),\n",
    "                future_values=batch[\"future_values\"].to(device),\n",
    "                future_time_features=batch[\"future_time_features\"].to(device),\n",
    "                past_observed_mask=batch[\"past_observed_mask\"].to(device),\n",
    "                # future_observed_mask=batch[\"future_observed_mask\"],\n",
    "            )\n",
    "            loss = outputs.loss\n",
    "\n",
    "            optimizer.zero_grad()\n",
    "            loss.backward()\n",
    "            optimizer.step()\n",
    "            train_loss += loss.detach().cpu().item()\n",
    "\n",
    "            pbar.set_postfix({'train_loss': train_loss/(idx+1)})\n",
    "            pbar.update(1)\n",
    "\n",
    "        model.eval()\n",
    "        with torch.no_grad():\n",
    "            for idx, batch in enumerate(valid_loader):\n",
    "                outputs = model(\n",
    "                    past_values=batch[\"past_values\"].to(device),\n",
    "                    past_time_features=batch[\"past_time_features\"].to(device),\n",
    "                    future_values=batch[\"future_values\"].to(device),\n",
    "                    future_time_features=batch[\"future_time_features\"].to(device),\n",
    "                    past_observed_mask=batch[\"past_observed_mask\"].to(device),\n",
    "                )\n",
    "                loss = outputs.loss\n",
    "                valid_loss += loss.detach().cpu().item()\n",
    "                pbar.set_postfix({'valid_loss': valid_loss/(idx+1)})\n",
    "\n",
    "        train_loss /= len(train_loader)\n",
    "        valid_loss /= len(valid_loader)\n",
    "        pbar.set_postfix({'train_loss': train_loss, 'valid_loss': valid_loss})\n",
    "\n",
    "        hist_loss[epoch] = train_loss\n",
    "        hist_loss_val[epoch] = valid_loss\n",
    "\n",
    "        if valid_loss < valid_loss_best:\n",
    "            valid_loss_best = valid_loss\n",
    "            torch.save(model.state_dict(), os.path.join(MODEL_PATH, f\"epoch-{epoch}\"))\n",
    "    "
   ]
  },
  {
   "cell_type": "code",
   "execution_count": 93,
   "metadata": {},
   "outputs": [
    {
     "name": "stdout",
     "output_type": "stream",
     "text": [
      "model exported to ./models with loss -2.133860\n"
     ]
    },
    {
     "data": {
      "image/png": "[encoded data removed]",
      "text/plain": [
       "<Figure size 640x480 with 1 Axes>"
      ]
     },
     "metadata": {},
     "output_type": "display_data"
    }
   ],
   "source": [
    "plt.plot(hist_loss, label='train')\n",
    "plt.plot(hist_loss_val, label='valid')\n",
    "plt.legend()\n",
    "print(f\"model exported to {MODEL_PATH} with loss {valid_loss_best:6f}\")"
   ]
  },
  {
   "cell_type": "code",
   "execution_count": 31,
   "metadata": {},
   "outputs": [],
   "source": [
    "def denormalize(x):\n",
    "    return x * scale"
   ]
  },
  {
   "cell_type": "code",
   "execution_count": 95,
   "metadata": {},
   "outputs": [
    {
     "name": "stderr",
     "output_type": "stream",
     "text": [
      "100%|██████████| 100/100 [04:57<00:00,  2.98s/it, Avg_MSE=0.00722]"
     ]
    },
    {
     "name": "stdout",
     "output_type": "stream",
     "text": [
      "MSE Loss: 0.00721742444911797\n"
     ]
    },
    {
     "name": "stderr",
     "output_type": "stream",
     "text": [
      "\n"
     ]
    }
   ],
   "source": [
    "model.eval()\n",
    "with torch.no_grad():\n",
    "    avg_mse = 0\n",
    "    NUM_LOOP = 100\n",
    "    with tqdm(total=NUM_LOOP) as pbar:\n",
    "        for _ in range(NUM_LOOP):\n",
    "            mse_valid = 0\n",
    "            for idx, batch in enumerate(valid_loader):\n",
    "                outputs = model.generate(\n",
    "                    past_values=batch[\"past_values\"][0].unsqueeze(0).to(device),\n",
    "                    past_time_features=batch[\"past_time_features\"][0].unsqueeze(0).to(device),\n",
    "                    # future_values=batch[\"future_values\"][0].unsqueeze(0).to(device),\n",
    "                    future_time_features=batch[\"future_time_features\"][0].unsqueeze(0).to(device),\n",
    "                    past_observed_mask=batch[\"past_observed_mask\"][0].unsqueeze(0).to(device),\n",
    "                    # num_beams=1,\n",
    "                )\n",
    "\n",
    "                prediction = denormalize(outputs.sequences.mean(dim=1).to(device))\n",
    "                ground_truth = denormalize(batch['future_values'][0].unsqueeze(0).to(device))\n",
    "\n",
    "                mse_valid += mse_loss(prediction, ground_truth).cpu().item()\n",
    "            \n",
    "            avg_mse += mse_valid\n",
    "            pbar.set_postfix({'Avg_MSE': avg_mse/(_+1)})\n",
    "            pbar.update(1)\n",
    "\n",
    "    print(f\"MSE Loss: {avg_mse/(NUM_LOOP)}\")\n",
    "\n",
    "    # plt.plot(prediction.squeeze(0).detach().cpu().numpy(), color=\"orange\")\n",
    "    # plt.plot(ground_truth.squeeze(0).detach().cpu().numpy(), color=\"green\")\n",
    "    # plt.show()"
   ]
  },
  {
   "cell_type": "code",
   "execution_count": 22,
   "metadata": {},
   "outputs": [],
   "source": [
    "df = pd.read_csv(\"./preprocessed-data/krwvnd.csv\", index_col=\"Date\")\n",
    "df.index = df.index.map(lambda x: get_date(x))\n",
    "df[\"Close\"] = df[\"Close\"].map(lambda x: float(x))\n",
    "scale = df.iloc[0].values[0]\n",
    "df = df.div(df.iloc[0])"
   ]
  },
  {
   "cell_type": "code",
   "execution_count": 23,
   "metadata": {},
   "outputs": [
    {
     "data": {
      "text/html": [
       "<div>\n",
       "<style scoped>\n",
       "    .dataframe tbody tr th:only-of-type {\n",
       "        vertical-align: middle;\n",
       "    }\n",
       "\n",
       "    .dataframe tbody tr th {\n",
       "        vertical-align: top;\n",
       "    }\n",
       "\n",
       "    .dataframe thead th {\n",
       "        text-align: right;\n",
       "    }\n",
       "</style>\n",
       "<table border=\"1\" class=\"dataframe\">\n",
       "  <thead>\n",
       "    <tr style=\"text-align: right;\">\n",
       "      <th></th>\n",
       "      <th>Close</th>\n",
       "    </tr>\n",
       "    <tr>\n",
       "      <th>Date</th>\n",
       "      <th></th>\n",
       "    </tr>\n",
       "  </thead>\n",
       "  <tbody>\n",
       "    <tr>\n",
       "      <th>2004-01-02</th>\n",
       "      <td>1.000000</td>\n",
       "    </tr>\n",
       "    <tr>\n",
       "      <th>2004-01-05</th>\n",
       "      <td>0.994921</td>\n",
       "    </tr>\n",
       "    <tr>\n",
       "      <th>2004-01-06</th>\n",
       "      <td>1.004984</td>\n",
       "    </tr>\n",
       "    <tr>\n",
       "      <th>2004-01-07</th>\n",
       "      <td>0.996925</td>\n",
       "    </tr>\n",
       "    <tr>\n",
       "      <th>2004-01-08</th>\n",
       "      <td>1.000365</td>\n",
       "    </tr>\n",
       "    <tr>\n",
       "      <th>...</th>\n",
       "      <td>...</td>\n",
       "    </tr>\n",
       "    <tr>\n",
       "      <th>2023-10-27</th>\n",
       "      <td>1.431432</td>\n",
       "    </tr>\n",
       "    <tr>\n",
       "      <th>2023-10-28</th>\n",
       "      <td>1.431380</td>\n",
       "    </tr>\n",
       "    <tr>\n",
       "      <th>2023-10-29</th>\n",
       "      <td>1.431380</td>\n",
       "    </tr>\n",
       "    <tr>\n",
       "      <th>2023-10-30</th>\n",
       "      <td>1.438317</td>\n",
       "    </tr>\n",
       "    <tr>\n",
       "      <th>2023-10-31</th>\n",
       "      <td>1.435300</td>\n",
       "    </tr>\n",
       "  </tbody>\n",
       "</table>\n",
       "<p>5979 rows × 1 columns</p>\n",
       "</div>"
      ],
      "text/plain": [
       "               Close\n",
       "Date                \n",
       "2004-01-02  1.000000\n",
       "2004-01-05  0.994921\n",
       "2004-01-06  1.004984\n",
       "2004-01-07  0.996925\n",
       "2004-01-08  1.000365\n",
       "...              ...\n",
       "2023-10-27  1.431432\n",
       "2023-10-28  1.431380\n",
       "2023-10-29  1.431380\n",
       "2023-10-30  1.438317\n",
       "2023-10-31  1.435300\n",
       "\n",
       "[5979 rows x 1 columns]"
      ]
     },
     "execution_count": 23,
     "metadata": {},
     "output_type": "execute_result"
    }
   ],
   "source": [
    "df"
   ]
  },
  {
   "cell_type": "code",
   "execution_count": 24,
   "metadata": {},
   "outputs": [
    {
     "data": {
      "text/html": [
       "<div>\n",
       "<style scoped>\n",
       "    .dataframe tbody tr th:only-of-type {\n",
       "        vertical-align: middle;\n",
       "    }\n",
       "\n",
       "    .dataframe tbody tr th {\n",
       "        vertical-align: top;\n",
       "    }\n",
       "\n",
       "    .dataframe thead th {\n",
       "        text-align: right;\n",
       "    }\n",
       "</style>\n",
       "<table border=\"1\" class=\"dataframe\">\n",
       "  <thead>\n",
       "    <tr style=\"text-align: right;\">\n",
       "      <th></th>\n",
       "      <th>Close</th>\n",
       "    </tr>\n",
       "    <tr>\n",
       "      <th>Date</th>\n",
       "      <th></th>\n",
       "    </tr>\n",
       "  </thead>\n",
       "  <tbody>\n",
       "    <tr>\n",
       "      <th>2023-07-21</th>\n",
       "      <td>1.452204</td>\n",
       "    </tr>\n",
       "    <tr>\n",
       "      <th>2023-07-22</th>\n",
       "      <td>1.452204</td>\n",
       "    </tr>\n",
       "    <tr>\n",
       "      <th>2023-07-23</th>\n",
       "      <td>1.452204</td>\n",
       "    </tr>\n",
       "    <tr>\n",
       "      <th>2023-07-24</th>\n",
       "      <td>1.459824</td>\n",
       "    </tr>\n",
       "    <tr>\n",
       "      <th>2023-07-25</th>\n",
       "      <td>1.466489</td>\n",
       "    </tr>\n",
       "    <tr>\n",
       "      <th>...</th>\n",
       "      <td>...</td>\n",
       "    </tr>\n",
       "    <tr>\n",
       "      <th>2023-10-27</th>\n",
       "      <td>1.431432</td>\n",
       "    </tr>\n",
       "    <tr>\n",
       "      <th>2023-10-28</th>\n",
       "      <td>1.431380</td>\n",
       "    </tr>\n",
       "    <tr>\n",
       "      <th>2023-10-29</th>\n",
       "      <td>1.431380</td>\n",
       "    </tr>\n",
       "    <tr>\n",
       "      <th>2023-10-30</th>\n",
       "      <td>1.438317</td>\n",
       "    </tr>\n",
       "    <tr>\n",
       "      <th>2023-10-31</th>\n",
       "      <td>1.435300</td>\n",
       "    </tr>\n",
       "  </tbody>\n",
       "</table>\n",
       "<p>103 rows × 1 columns</p>\n",
       "</div>"
      ],
      "text/plain": [
       "               Close\n",
       "Date                \n",
       "2023-07-21  1.452204\n",
       "2023-07-22  1.452204\n",
       "2023-07-23  1.452204\n",
       "2023-07-24  1.459824\n",
       "2023-07-25  1.466489\n",
       "...              ...\n",
       "2023-10-27  1.431432\n",
       "2023-10-28  1.431380\n",
       "2023-10-29  1.431380\n",
       "2023-10-30  1.438317\n",
       "2023-10-31  1.435300\n",
       "\n",
       "[103 rows x 1 columns]"
      ]
     },
     "execution_count": 24,
     "metadata": {},
     "output_type": "execute_result"
    }
   ],
   "source": [
    "df[-96-7:]"
   ]
  },
  {
   "cell_type": "code",
   "execution_count": 25,
   "metadata": {},
   "outputs": [
    {
     "data": {
      "text/html": [
       "<div>\n",
       "<style scoped>\n",
       "    .dataframe tbody tr th:only-of-type {\n",
       "        vertical-align: middle;\n",
       "    }\n",
       "\n",
       "    .dataframe tbody tr th {\n",
       "        vertical-align: top;\n",
       "    }\n",
       "\n",
       "    .dataframe thead th {\n",
       "        text-align: right;\n",
       "    }\n",
       "</style>\n",
       "<table border=\"1\" class=\"dataframe\">\n",
       "  <thead>\n",
       "    <tr style=\"text-align: right;\">\n",
       "      <th></th>\n",
       "      <th>Close</th>\n",
       "    </tr>\n",
       "    <tr>\n",
       "      <th>Date</th>\n",
       "      <th></th>\n",
       "    </tr>\n",
       "  </thead>\n",
       "  <tbody>\n",
       "    <tr>\n",
       "      <th>2023-11-01</th>\n",
       "      <td>1.439997</td>\n",
       "    </tr>\n",
       "    <tr>\n",
       "      <th>2023-11-02</th>\n",
       "      <td>1.454784</td>\n",
       "    </tr>\n",
       "    <tr>\n",
       "      <th>2023-11-03</th>\n",
       "      <td>1.480337</td>\n",
       "    </tr>\n",
       "    <tr>\n",
       "      <th>2023-11-04</th>\n",
       "      <td>1.480162</td>\n",
       "    </tr>\n",
       "    <tr>\n",
       "      <th>2023-11-05</th>\n",
       "      <td>1.480162</td>\n",
       "    </tr>\n",
       "  </tbody>\n",
       "</table>\n",
       "</div>"
      ],
      "text/plain": [
       "               Close\n",
       "Date                \n",
       "2023-11-01  1.439997\n",
       "2023-11-02  1.454784\n",
       "2023-11-03  1.480337\n",
       "2023-11-04  1.480162\n",
       "2023-11-05  1.480162"
      ]
     },
     "execution_count": 25,
     "metadata": {},
     "output_type": "execute_result"
    }
   ],
   "source": [
    "test_df = pd.read_csv(\"./krwvnd-test.csv\")\n",
    "test_df[\"Close\"] = test_df.Close.map(lambda x: np.float32(x.replace(\",\", \".\")))\n",
    "test_df[\"Date\"] = test_df.Date.map(lambda x: pd.to_datetime(x, dayfirst=True).date())\n",
    "test_df[\"Close\"] = test_df[\"Close\"] / scale\n",
    "test_df = test_df.set_index(\"Date\")\n",
    "test_df.head()"
   ]
  },
  {
   "cell_type": "code",
   "execution_count": 26,
   "metadata": {},
   "outputs": [
    {
     "data": {
      "text/html": [
       "<div>\n",
       "<style scoped>\n",
       "    .dataframe tbody tr th:only-of-type {\n",
       "        vertical-align: middle;\n",
       "    }\n",
       "\n",
       "    .dataframe tbody tr th {\n",
       "        vertical-align: top;\n",
       "    }\n",
       "\n",
       "    .dataframe thead th {\n",
       "        text-align: right;\n",
       "    }\n",
       "</style>\n",
       "<table border=\"1\" class=\"dataframe\">\n",
       "  <thead>\n",
       "    <tr style=\"text-align: right;\">\n",
       "      <th></th>\n",
       "      <th>Close</th>\n",
       "    </tr>\n",
       "    <tr>\n",
       "      <th>Date</th>\n",
       "      <th></th>\n",
       "    </tr>\n",
       "  </thead>\n",
       "  <tbody>\n",
       "    <tr>\n",
       "      <th>2023-07-21</th>\n",
       "      <td>1.452204</td>\n",
       "    </tr>\n",
       "    <tr>\n",
       "      <th>2023-07-22</th>\n",
       "      <td>1.452204</td>\n",
       "    </tr>\n",
       "    <tr>\n",
       "      <th>2023-07-23</th>\n",
       "      <td>1.452204</td>\n",
       "    </tr>\n",
       "    <tr>\n",
       "      <th>2023-07-24</th>\n",
       "      <td>1.459824</td>\n",
       "    </tr>\n",
       "    <tr>\n",
       "      <th>2023-07-25</th>\n",
       "      <td>1.466489</td>\n",
       "    </tr>\n",
       "    <tr>\n",
       "      <th>...</th>\n",
       "      <td>...</td>\n",
       "    </tr>\n",
       "    <tr>\n",
       "      <th>2023-11-26</th>\n",
       "      <td>1.467583</td>\n",
       "    </tr>\n",
       "    <tr>\n",
       "      <th>2023-11-27</th>\n",
       "      <td>1.467569</td>\n",
       "    </tr>\n",
       "    <tr>\n",
       "      <th>2023-11-28</th>\n",
       "      <td>1.472464</td>\n",
       "    </tr>\n",
       "    <tr>\n",
       "      <th>2023-11-29</th>\n",
       "      <td>1.485826</td>\n",
       "    </tr>\n",
       "    <tr>\n",
       "      <th>2023-11-30</th>\n",
       "      <td>1.476561</td>\n",
       "    </tr>\n",
       "  </tbody>\n",
       "</table>\n",
       "<p>133 rows × 1 columns</p>\n",
       "</div>"
      ],
      "text/plain": [
       "               Close\n",
       "Date                \n",
       "2023-07-21  1.452204\n",
       "2023-07-22  1.452204\n",
       "2023-07-23  1.452204\n",
       "2023-07-24  1.459824\n",
       "2023-07-25  1.466489\n",
       "...              ...\n",
       "2023-11-26  1.467583\n",
       "2023-11-27  1.467569\n",
       "2023-11-28  1.472464\n",
       "2023-11-29  1.485826\n",
       "2023-11-30  1.476561\n",
       "\n",
       "[133 rows x 1 columns]"
      ]
     },
     "execution_count": 26,
     "metadata": {},
     "output_type": "execute_result"
    }
   ],
   "source": [
    "data = pd.concat([df[-96-7:], test_df])\n",
    "data\n",
    "# create_sequences(df[:train_size], context_len+max(configuration.lags_sequence), prediction_len)"
   ]
  },
  {
   "cell_type": "code",
   "execution_count": 27,
   "metadata": {},
   "outputs": [
    {
     "name": "stderr",
     "output_type": "stream",
     "text": [
      "100%|██████████| 1/1 [00:00<00:00, 558.79it/s]\n"
     ]
    }
   ],
   "source": [
    "inp = create_sequences(data, 96+max(configuration.lags_sequence), 30)"
   ]
  },
  {
   "cell_type": "code",
   "execution_count": 84,
   "metadata": {},
   "outputs": [
    {
     "data": {
      "text/plain": [
       "<All keys matched successfully>"
      ]
     },
     "execution_count": 84,
     "metadata": {},
     "output_type": "execute_result"
    }
   ],
   "source": [
    "model.load_state_dict(torch.load(f\"{MODEL_PATH}/epoch-94\"))"
   ]
  },
  {
   "cell_type": "code",
   "execution_count": 85,
   "metadata": {},
   "outputs": [
    {
     "name": "stdout",
     "output_type": "stream",
     "text": [
      "[18.4748   18.28655  18.22877  18.226873 18.371012 18.406336 18.401533\n",
      " 18.301332 18.414885 18.455917 18.467335 18.429068 18.446651 18.429928\n",
      " 18.417692 18.48102  18.450563 18.522837 18.415895 18.509481 18.554886\n",
      " 18.552963 18.569921 18.60085  18.59597  18.5586   18.512812 18.537148\n",
      " 18.663458 18.739244]\n"
     ]
    }
   ],
   "source": [
    "model.eval()\n",
    "with torch.no_grad():\n",
    "    outputs = model.generate(\n",
    "        past_values=inp[0][\"past_values\"].unsqueeze(0).to(device),\n",
    "        past_time_features=inp[0][\"past_time_features\"].unsqueeze(0).to(device),\n",
    "        # future_values=inp[0][\"future_values\"].unsqueeze(0).to(device),\n",
    "        future_time_features=inp[0][\"future_time_features\"].unsqueeze(0).to(device),\n",
    "        past_observed_mask=inp[0][\"past_observed_mask\"].unsqueeze(0).to(device),\n",
    "        # num_beams=1,\n",
    "    )\n",
    "    # print(outputs.sequences.mean(dim=1).squeeze(0).cpu())\n",
    "    prediction = denormalize(outputs.sequences.mean(dim=1).squeeze(0).cpu().numpy())\n",
    "    print(prediction)"
   ]
  },
  {
   "cell_type": "code",
   "execution_count": 86,
   "metadata": {},
   "outputs": [
    {
     "name": "stdout",
     "output_type": "stream",
     "text": [
      "[18.232344 18.419567 18.743101 18.74089  18.74089  18.739798 18.640205\n",
      " 18.633884 18.509521 18.425657 18.452925 18.452925 18.477781 18.677027\n",
      " 18.622482 18.788408 18.717506 18.715784 18.715784 18.764841 18.624245\n",
      " 18.666742 18.397434 18.57854  18.581621 18.581621 18.581448 18.643427\n",
      " 18.812601 18.695301]\n"
     ]
    }
   ],
   "source": [
    "ground_truth = denormalize(inp[0]['future_values'].numpy())\n",
    "print(ground_truth)"
   ]
  },
  {
   "cell_type": "code",
   "execution_count": 87,
   "metadata": {},
   "outputs": [
    {
     "data": {
      "text/plain": [
       "tensor(0.0527)"
      ]
     },
     "execution_count": 87,
     "metadata": {},
     "output_type": "execute_result"
    }
   ],
   "source": [
    "mse_loss(torch.Tensor(prediction), torch.Tensor(ground_truth))"
   ]
  },
  {
   "cell_type": "code",
   "execution_count": 88,
   "metadata": {},
   "outputs": [
    {
     "data": {
      "image/png": "[encoded data removed]",
      "text/plain": [
       "<Figure size 640x480 with 1 Axes>"
      ]
     },
     "metadata": {},
     "output_type": "display_data"
    }
   ],
   "source": [
    "mse = mse_loss(torch.Tensor(prediction), torch.Tensor(ground_truth))\n",
    "denormalized_data = denormalize(df[-96-7:][\"Close\"].to_numpy())\n",
    "num_lookback = denormalized_data.shape[0]\n",
    "\n",
    "plt.plot(denormalized_data, label=\"lookback data\")\n",
    "plt.plot(np.concatenate([np.ones(num_lookback) * np.nan, prediction]), label='prediction')\n",
    "plt.plot(np.concatenate([np.ones(num_lookback) * np.nan, ground_truth]), label='ground truth')\n",
    "plt.title(f\"Transformer forecast with MSE={mse:.6f}\")\n",
    "plt.axvline(x=denormalized_data.shape[0], c='r', linestyle='--')\n",
    "plt.legend()\n",
    "plt.show()"
   ]
  }
 ],
 "metadata": {
  "kernelspec": {
   "display_name": "tsa",
   "language": "python",
   "name": "python3"
  },
  "language_info": {
   "codemirror_mode": {
    "name": "ipython",
    "version": 3
   },
   "file_extension": ".py",
   "mimetype": "text/x-python",
   "name": "python",
   "nbconvert_exporter": "python",
   "pygments_lexer": "ipython3",
   "version": "3.10.11"
  },
  "orig_nbformat": 4
 },
 "nbformat": 4,
 "nbformat_minor": 2
}
