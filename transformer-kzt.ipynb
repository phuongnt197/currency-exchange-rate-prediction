{
 "cells": [
  {
   "cell_type": "code",
   "execution_count": 1,
   "metadata": {},
   "outputs": [],
   "source": [
    "import torch"
   ]
  },
  {
   "cell_type": "code",
   "execution_count": 2,
   "metadata": {},
   "outputs": [
    {
     "data": {
      "text/plain": [
       "'2.1.1+cu121'"
      ]
     },
     "execution_count": 2,
     "metadata": {},
     "output_type": "execute_result"
    }
   ],
   "source": [
    "torch.__version__"
   ]
  },
  {
   "cell_type": "code",
   "execution_count": 3,
   "metadata": {},
   "outputs": [],
   "source": [
    "device = \"cuda\" if torch.cuda.is_available() else \"cpu\""
   ]
  },
  {
   "cell_type": "code",
   "execution_count": 4,
   "metadata": {},
   "outputs": [],
   "source": [
    "import os"
   ]
  },
  {
   "cell_type": "code",
   "execution_count": 5,
   "metadata": {},
   "outputs": [],
   "source": [
    "import numpy as np\n",
    "import pandas as pd\n",
    "import matplotlib.pyplot as plt"
   ]
  },
  {
   "cell_type": "code",
   "execution_count": 6,
   "metadata": {},
   "outputs": [],
   "source": [
    "from torch.nn import Module\n",
    "from torch.nn import TransformerEncoderLayer\n",
    "from torch.nn import TransformerEncoder\n",
    "from torch.nn import TransformerDecoderLayer\n",
    "from torch.nn import TransformerDecoder\n",
    "from torch.nn import LayerNorm\n",
    "from torch.nn import BatchNorm1d\n",
    "from torch.nn import Linear\n",
    "\n",
    "from torch import optim\n",
    "from torch.optim import Adam\n",
    "from torch.nn import functional as F\n",
    "from torch.nn.functional import mse_loss\n",
    "\n",
    "import torch.utils.data as Data\n",
    "from torch.utils.data import Dataset\n",
    "from torch.utils.data import DataLoader\n",
    "\n",
    "from tqdm import tqdm"
   ]
  },
  {
   "cell_type": "code",
   "execution_count": 7,
   "metadata": {},
   "outputs": [
    {
     "data": {
      "text/html": [
       "<div>\n",
       "<style scoped>\n",
       "    .dataframe tbody tr th:only-of-type {\n",
       "        vertical-align: middle;\n",
       "    }\n",
       "\n",
       "    .dataframe tbody tr th {\n",
       "        vertical-align: top;\n",
       "    }\n",
       "\n",
       "    .dataframe thead th {\n",
       "        text-align: right;\n",
       "    }\n",
       "</style>\n",
       "<table border=\"1\" class=\"dataframe\">\n",
       "  <thead>\n",
       "    <tr style=\"text-align: right;\">\n",
       "      <th></th>\n",
       "      <th>Close</th>\n",
       "    </tr>\n",
       "    <tr>\n",
       "      <th>Date</th>\n",
       "      <th></th>\n",
       "    </tr>\n",
       "  </thead>\n",
       "  <tbody>\n",
       "    <tr>\n",
       "      <th>2004-01-02</th>\n",
       "      <td>0.115789</td>\n",
       "    </tr>\n",
       "    <tr>\n",
       "      <th>2004-01-05</th>\n",
       "      <td>0.114777</td>\n",
       "    </tr>\n",
       "    <tr>\n",
       "      <th>2004-01-06</th>\n",
       "      <td>0.115528</td>\n",
       "    </tr>\n",
       "    <tr>\n",
       "      <th>2004-01-07</th>\n",
       "      <td>0.114479</td>\n",
       "    </tr>\n",
       "    <tr>\n",
       "      <th>2004-01-08</th>\n",
       "      <td>0.115056</td>\n",
       "    </tr>\n",
       "  </tbody>\n",
       "</table>\n",
       "</div>"
      ],
      "text/plain": [
       "               Close\n",
       "Date                \n",
       "2004-01-02  0.115789\n",
       "2004-01-05  0.114777\n",
       "2004-01-06  0.115528\n",
       "2004-01-07  0.114479\n",
       "2004-01-08  0.115056"
      ]
     },
     "execution_count": 7,
     "metadata": {},
     "output_type": "execute_result"
    }
   ],
   "source": [
    "df = pd.read_csv(\"./preprocessed-data/krwkzt.csv\", index_col=\"Date\")\n",
    "df.head()"
   ]
  },
  {
   "cell_type": "code",
   "execution_count": 8,
   "metadata": {},
   "outputs": [],
   "source": [
    "def get_date(x): \n",
    "    return pd.to_datetime(x).date()"
   ]
  },
  {
   "cell_type": "code",
   "execution_count": 9,
   "metadata": {},
   "outputs": [],
   "source": [
    "df.index = df.index.map(lambda x: get_date(x))"
   ]
  },
  {
   "cell_type": "code",
   "execution_count": 10,
   "metadata": {},
   "outputs": [
    {
     "data": {
      "text/plain": [
       "Index([2004-01-02, 2004-01-05, 2004-01-06, 2004-01-07, 2004-01-08, 2004-01-09,\n",
       "       2004-01-12, 2004-01-13, 2004-01-14, 2004-01-15,\n",
       "       ...\n",
       "       2023-10-22, 2023-10-23, 2023-10-24, 2023-10-25, 2023-10-26, 2023-10-27,\n",
       "       2023-10-28, 2023-10-29, 2023-10-30, 2023-10-31],\n",
       "      dtype='object', name='Date', length=5954)"
      ]
     },
     "execution_count": 10,
     "metadata": {},
     "output_type": "execute_result"
    }
   ],
   "source": [
    "df.index"
   ]
  },
  {
   "cell_type": "code",
   "execution_count": 11,
   "metadata": {},
   "outputs": [],
   "source": [
    "def min_max_normalization(x, min, max):\n",
    "    return (x - min) / (max - min)"
   ]
  },
  {
   "cell_type": "code",
   "execution_count": 12,
   "metadata": {},
   "outputs": [],
   "source": [
    "def get_feat(x):\n",
    "    return [min_max_normalization(x.year, 2004, 2023), min_max_normalization(x.month, 1, 12), min_max_normalization(x.day, 1, 31)]"
   ]
  },
  {
   "cell_type": "code",
   "execution_count": 13,
   "metadata": {},
   "outputs": [],
   "source": [
    "def get_features(data, _from, _to):\n",
    "    return [get_feat(x) for x in data.iloc[_from:_to].index]\n",
    "    return data.iloc[_from:_to].index.map(lambda x: [get_date(x).year, get_date(x).month, get_date(x).day]).to_list()"
   ]
  },
  {
   "cell_type": "code",
   "execution_count": 14,
   "metadata": {},
   "outputs": [],
   "source": [
    "def get_values(data, _from, _to):\n",
    "    return data.iloc[_from:_to].Close.to_list()"
   ]
  },
  {
   "cell_type": "code",
   "execution_count": 15,
   "metadata": {},
   "outputs": [],
   "source": [
    "from transformers import TimeSeriesTransformerConfig, TimeSeriesTransformerForPrediction\n",
    "\n",
    "# Initializing a Time Series Transformer configuration with 30 time steps for prediction\n",
    "configuration = TimeSeriesTransformerConfig(context_length=96, \n",
    "                                            prediction_length=30,\n",
    "                                            num_time_features=3\n",
    "                                            # num_static_categorical_features=64,\n",
    "                                            # num_static_real_features=64,\n",
    "                                            )\n",
    "\n",
    "# Randomly initializing a model (with random weights) from the configuration\n",
    "model = TimeSeriesTransformerForPrediction(configuration).to(device)\n",
    "\n",
    "# Accessing the model configuration\n",
    "configuration = model.config"
   ]
  },
  {
   "cell_type": "code",
   "execution_count": 16,
   "metadata": {},
   "outputs": [],
   "source": [
    "# refered: https://pseudo-lab.github.io/Tutorial-Book/chapters/time-series/Ch3-preprocessing.html\n",
    "def create_sequences(data, context_len, prediction_len):\n",
    "    batch_data = []\n",
    "    for i in tqdm(range(len(data)-context_len-prediction_len+1)):\n",
    "        x = get_values(data, i, i+context_len)\n",
    "        y = get_values(data, i+context_len, i+context_len+prediction_len)\n",
    "\n",
    "        x_feat = get_features(data, i, i+context_len)\n",
    "        y_feat = get_features(data, i+context_len, i+context_len+prediction_len)\n",
    "        batch_data.append({\n",
    "            \"past_values\": torch.Tensor(x).type(torch.FloatTensor),\n",
    "            \"future_values\": torch.Tensor(y).type(torch.FloatTensor),\n",
    "            \"past_time_features\": torch.Tensor(x_feat).type(torch.FloatTensor),\n",
    "            \"future_time_features\": torch.Tensor(y_feat).type(torch.FloatTensor),\n",
    "            \"past_observed_mask\": torch.Tensor(np.ones(context_len, dtype=bool)).type(torch.BoolTensor),\n",
    "            \"future_observed_mask\": torch.Tensor(np.ones(context_len, dtype=bool)).type(torch.BoolTensor),\n",
    "        })\n",
    "\n",
    "    return batch_data"
   ]
  },
  {
   "cell_type": "code",
   "execution_count": 17,
   "metadata": {},
   "outputs": [],
   "source": [
    "class CustomDataset(Dataset):\n",
    "    def __init__(self, mode=\"train\", context_len=96, prediction_len=12):\n",
    "        df = pd.read_csv(\"./preprocessed-data/krwvnd.csv\", index_col=\"Date\")\n",
    "        df.index = df.index.map(lambda x: get_date(x))\n",
    "        df[\"Close\"] = df[\"Close\"].map(lambda x: float(x))\n",
    "        df = df.div(df.iloc[0])\n",
    "\n",
    "        train_size = int(len(df) * 0.8)\n",
    "\n",
    "        if mode == \"train\":\n",
    "            self.data = create_sequences(df[:train_size], context_len+max(configuration.lags_sequence), prediction_len)\n",
    "        elif mode == \"valid\":\n",
    "            self.data = create_sequences(df[train_size:], context_len+max(configuration.lags_sequence), prediction_len)\n",
    "        # else:\n",
    "\n",
    "        \n",
    "    def __len__(self):\n",
    "        return len(self.data)\n",
    "\n",
    "    def __getitem__(self, idx):\n",
    "        return self.data[idx]"
   ]
  },
  {
   "cell_type": "code",
   "execution_count": 18,
   "metadata": {},
   "outputs": [],
   "source": [
    "EPOCH = 100\n",
    "BATCH_SIZE = 256\n",
    "LEARNING_RATE = 1e-3\n",
    "MODEL_PATH = \"./models-kzt\""
   ]
  },
  {
   "cell_type": "code",
   "execution_count": 19,
   "metadata": {},
   "outputs": [
    {
     "name": "stderr",
     "output_type": "stream",
     "text": [
      "100%|██████████| 4651/4651 [00:02<00:00, 2122.47it/s]\n",
      "100%|██████████| 1064/1064 [00:00<00:00, 2235.60it/s]\n"
     ]
    }
   ],
   "source": [
    "dataset = CustomDataset(mode=\"train\", context_len=96, prediction_len=30)\n",
    "train_loader = DataLoader(dataset, batch_size=BATCH_SIZE, shuffle=True)\n",
    "dataset = CustomDataset(mode=\"valid\", context_len=96, prediction_len=30)\n",
    "valid_loader = DataLoader(dataset, batch_size=BATCH_SIZE, shuffle=True)"
   ]
  },
  {
   "cell_type": "code",
   "execution_count": 20,
   "metadata": {},
   "outputs": [],
   "source": [
    "optimizer = Adam(model.parameters(), lr=LEARNING_RATE)"
   ]
  },
  {
   "cell_type": "code",
   "execution_count": 21,
   "metadata": {},
   "outputs": [
    {
     "data": {
      "text/plain": [
       "136003"
      ]
     },
     "execution_count": 21,
     "metadata": {},
     "output_type": "execute_result"
    }
   ],
   "source": [
    "sum(p.numel() for p in model.parameters())"
   ]
  },
  {
   "cell_type": "code",
   "execution_count": 22,
   "metadata": {},
   "outputs": [
    {
     "name": "stderr",
     "output_type": "stream",
     "text": [
      "[Epoch   1/100]: 100%|██████████| 19/19 [00:12<00:00,  1.56it/s, train_loss=1.21, valid_loss=0.812]\n",
      "[Epoch   2/100]: 100%|██████████| 19/19 [00:08<00:00,  2.13it/s, train_loss=0.513, valid_loss=0.333]\n",
      "[Epoch   3/100]: 100%|██████████| 19/19 [00:09<00:00,  2.04it/s, train_loss=0.104, valid_loss=-.0173]\n",
      "[Epoch   4/100]: 100%|██████████| 19/19 [00:08<00:00,  2.13it/s, train_loss=-.134, valid_loss=-.26]\n",
      "[Epoch   5/100]: 100%|██████████| 19/19 [00:09<00:00,  1.98it/s, train_loss=-.385, valid_loss=-.452]\n",
      "[Epoch   6/100]: 100%|██████████| 19/19 [00:09<00:00,  2.07it/s, train_loss=-.526, valid_loss=-.596]\n",
      "[Epoch   7/100]: 100%|██████████| 19/19 [00:09<00:00,  2.08it/s, train_loss=-.625, valid_loss=-.685]\n",
      "[Epoch   8/100]: 100%|██████████| 19/19 [00:09<00:00,  2.02it/s, train_loss=-.699, valid_loss=-.756]\n",
      "[Epoch   9/100]: 100%|██████████| 19/19 [00:09<00:00,  1.99it/s, train_loss=-.833, valid_loss=-.896]\n",
      "[Epoch  10/100]: 100%|██████████| 19/19 [00:09<00:00,  2.00it/s, train_loss=-.851, valid_loss=-.81]\n",
      "[Epoch  11/100]: 100%|██████████| 19/19 [00:08<00:00,  2.14it/s, train_loss=-.87, valid_loss=-.98]\n",
      "[Epoch  12/100]: 100%|██████████| 19/19 [00:08<00:00,  2.11it/s, train_loss=-1, valid_loss=-1]\n",
      "[Epoch  13/100]: 100%|██████████| 19/19 [00:08<00:00,  2.12it/s, train_loss=-.986, valid_loss=-.797]\n",
      "[Epoch  14/100]: 100%|██████████| 19/19 [00:09<00:00,  2.01it/s, train_loss=-1.09, valid_loss=-1.06]\n",
      "[Epoch  15/100]: 100%|██████████| 19/19 [00:09<00:00,  2.10it/s, train_loss=-1.12, valid_loss=-1.15]\n",
      "[Epoch  16/100]: 100%|██████████| 19/19 [00:08<00:00,  2.13it/s, train_loss=-1.14, valid_loss=-1.09]\n",
      "[Epoch  17/100]: 100%|██████████| 19/19 [00:08<00:00,  2.13it/s, train_loss=-1.16, valid_loss=-1.27]\n",
      "[Epoch  18/100]: 100%|██████████| 19/19 [00:08<00:00,  2.12it/s, train_loss=-1.15, valid_loss=-1.31]\n",
      "[Epoch  19/100]: 100%|██████████| 19/19 [00:07<00:00,  2.40it/s, train_loss=-1.16, valid_loss=-1.08]\n",
      "[Epoch  20/100]: 100%|██████████| 19/19 [00:08<00:00,  2.25it/s, train_loss=-1.2, valid_loss=-1.32]\n",
      "[Epoch  21/100]: 100%|██████████| 19/19 [00:08<00:00,  2.17it/s, train_loss=-1.15, valid_loss=-1.33]\n",
      "[Epoch  22/100]: 100%|██████████| 19/19 [00:08<00:00,  2.12it/s, train_loss=-1.24, valid_loss=-1.35]\n",
      "[Epoch  23/100]: 100%|██████████| 19/19 [00:09<00:00,  2.11it/s, train_loss=-1.32, valid_loss=-1.41]\n",
      "[Epoch  24/100]: 100%|██████████| 19/19 [00:08<00:00,  2.24it/s, train_loss=-1.22, valid_loss=-1.43]\n",
      "[Epoch  25/100]: 100%|██████████| 19/19 [00:09<00:00,  2.10it/s, train_loss=-1.16, valid_loss=-1.35]\n",
      "[Epoch  26/100]: 100%|██████████| 19/19 [00:08<00:00,  2.20it/s, train_loss=-1.17, valid_loss=-.958]\n",
      "[Epoch  27/100]: 100%|██████████| 19/19 [00:08<00:00,  2.21it/s, train_loss=-1.28, valid_loss=-1.39]\n",
      "[Epoch  28/100]: 100%|██████████| 19/19 [00:09<00:00,  1.98it/s, train_loss=-1.36, valid_loss=-1.34]\n",
      "[Epoch  29/100]: 100%|██████████| 19/19 [00:09<00:00,  2.00it/s, train_loss=-1.33, valid_loss=-1.37]\n",
      "[Epoch  30/100]: 100%|██████████| 19/19 [00:08<00:00,  2.15it/s, train_loss=-1.37, valid_loss=-1.41]\n",
      "[Epoch  31/100]: 100%|██████████| 19/19 [00:08<00:00,  2.24it/s, train_loss=-1.37, valid_loss=-1.39]\n",
      "[Epoch  32/100]: 100%|██████████| 19/19 [00:09<00:00,  2.04it/s, train_loss=-1.39, valid_loss=-1.32]\n",
      "[Epoch  33/100]: 100%|██████████| 19/19 [00:08<00:00,  2.34it/s, train_loss=-1.37, valid_loss=-1.5]\n",
      "[Epoch  34/100]: 100%|██████████| 19/19 [00:09<00:00,  2.01it/s, train_loss=-1.32, valid_loss=-1.54]\n",
      "[Epoch  35/100]: 100%|██████████| 19/19 [00:08<00:00,  2.14it/s, train_loss=-1.35, valid_loss=-1.24]\n",
      "[Epoch  36/100]: 100%|██████████| 19/19 [00:08<00:00,  2.16it/s, train_loss=-1.37, valid_loss=-1.16]\n",
      "[Epoch  37/100]: 100%|██████████| 19/19 [00:08<00:00,  2.22it/s, train_loss=-1.34, valid_loss=-1.41]\n",
      "[Epoch  38/100]: 100%|██████████| 19/19 [00:08<00:00,  2.24it/s, train_loss=-1.39, valid_loss=-1.23]\n",
      "[Epoch  39/100]: 100%|██████████| 19/19 [00:08<00:00,  2.18it/s, train_loss=-1.41, valid_loss=-1.29]\n",
      "[Epoch  40/100]: 100%|██████████| 19/19 [00:08<00:00,  2.31it/s, train_loss=-1.38, valid_loss=-1.51]\n",
      "[Epoch  41/100]: 100%|██████████| 19/19 [00:08<00:00,  2.22it/s, train_loss=-1.42, valid_loss=-1.03]\n",
      "[Epoch  42/100]: 100%|██████████| 19/19 [00:08<00:00,  2.14it/s, train_loss=-1.37, valid_loss=-1.52]\n",
      "[Epoch  43/100]: 100%|██████████| 19/19 [00:08<00:00,  2.32it/s, train_loss=-1.35, valid_loss=-1.55]\n",
      "[Epoch  44/100]: 100%|██████████| 19/19 [00:08<00:00,  2.21it/s, train_loss=-1.41, valid_loss=-1.57]\n",
      "[Epoch  45/100]: 100%|██████████| 19/19 [00:08<00:00,  2.12it/s, train_loss=-1.41, valid_loss=-1.57]\n",
      "[Epoch  46/100]: 100%|██████████| 19/19 [00:08<00:00,  2.21it/s, train_loss=-1.43, valid_loss=-1.51]\n",
      "[Epoch  47/100]: 100%|██████████| 19/19 [00:09<00:00,  2.07it/s, train_loss=-1.36, valid_loss=-1.25]\n",
      "[Epoch  48/100]: 100%|██████████| 19/19 [00:09<00:00,  1.98it/s, train_loss=-1.29, valid_loss=-1.52]\n",
      "[Epoch  49/100]: 100%|██████████| 19/19 [00:09<00:00,  1.97it/s, train_loss=-1.35, valid_loss=-1.5]\n",
      "[Epoch  50/100]: 100%|██████████| 19/19 [00:08<00:00,  2.18it/s, train_loss=-1.36, valid_loss=-1.32]\n",
      "[Epoch  51/100]: 100%|██████████| 19/19 [00:11<00:00,  1.59it/s, train_loss=-1.26, valid_loss=-.695]\n",
      "[Epoch  52/100]: 100%|██████████| 19/19 [00:12<00:00,  1.51it/s, train_loss=-1.37, valid_loss=-1.47]\n",
      "[Epoch  53/100]: 100%|██████████| 19/19 [00:09<00:00,  1.91it/s, train_loss=-1.43, valid_loss=-1.58]\n",
      "[Epoch  54/100]: 100%|██████████| 19/19 [00:08<00:00,  2.19it/s, train_loss=-1.46, valid_loss=-1.5]\n",
      "[Epoch  55/100]: 100%|██████████| 19/19 [00:08<00:00,  2.23it/s, train_loss=-1.5, valid_loss=-1.48]\n",
      "[Epoch  56/100]: 100%|██████████| 19/19 [00:07<00:00,  2.43it/s, train_loss=-1.44, valid_loss=-1.4]\n",
      "[Epoch  57/100]: 100%|██████████| 19/19 [00:07<00:00,  2.53it/s, train_loss=-1.43, valid_loss=-1.65]\n",
      "[Epoch  58/100]: 100%|██████████| 19/19 [00:07<00:00,  2.43it/s, train_loss=-1.5, valid_loss=-1.59]\n",
      "[Epoch  59/100]: 100%|██████████| 19/19 [00:08<00:00,  2.23it/s, train_loss=-1.48, valid_loss=-1.64]\n",
      "[Epoch  60/100]: 100%|██████████| 19/19 [00:08<00:00,  2.15it/s, train_loss=-1.56, valid_loss=-1.59]\n",
      "[Epoch  61/100]: 100%|██████████| 19/19 [00:08<00:00,  2.36it/s, train_loss=-1.55, valid_loss=-1.76]\n",
      "[Epoch  62/100]: 100%|██████████| 19/19 [00:08<00:00,  2.37it/s, train_loss=-1.64, valid_loss=-1.72]\n",
      "[Epoch  63/100]: 100%|██████████| 19/19 [00:07<00:00,  2.69it/s, train_loss=-1.55, valid_loss=-1.38]\n",
      "[Epoch  64/100]: 100%|██████████| 19/19 [00:07<00:00,  2.47it/s, train_loss=-1.47, valid_loss=-1.59]\n",
      "[Epoch  65/100]: 100%|██████████| 19/19 [00:07<00:00,  2.40it/s, train_loss=-1.64, valid_loss=-1.77]\n",
      "[Epoch  66/100]: 100%|██████████| 19/19 [00:08<00:00,  2.29it/s, train_loss=-1.64, valid_loss=-1.69]\n",
      "[Epoch  67/100]: 100%|██████████| 19/19 [00:07<00:00,  2.44it/s, train_loss=-1.73, valid_loss=-1.83]\n",
      "[Epoch  68/100]: 100%|██████████| 19/19 [00:07<00:00,  2.51it/s, train_loss=-1.37, valid_loss=-.382]\n",
      "[Epoch  69/100]: 100%|██████████| 19/19 [00:07<00:00,  2.61it/s, train_loss=-1.14, valid_loss=-1.65]\n",
      "[Epoch  70/100]: 100%|██████████| 19/19 [00:07<00:00,  2.46it/s, train_loss=-1.55, valid_loss=-1.73]\n",
      "[Epoch  71/100]: 100%|██████████| 19/19 [00:07<00:00,  2.48it/s, train_loss=-1.51, valid_loss=-1.79]\n",
      "[Epoch  72/100]: 100%|██████████| 19/19 [00:08<00:00,  2.35it/s, train_loss=-1.67, valid_loss=-1.26]\n",
      "[Epoch  73/100]: 100%|██████████| 19/19 [00:10<00:00,  1.89it/s, train_loss=-1.74, valid_loss=-1.58]\n",
      "[Epoch  74/100]: 100%|██████████| 19/19 [00:08<00:00,  2.31it/s, train_loss=-1.6, valid_loss=-1.07]\n",
      "[Epoch  75/100]: 100%|██████████| 19/19 [00:09<00:00,  2.04it/s, train_loss=-1.66, valid_loss=-1.74]\n",
      "[Epoch  76/100]: 100%|██████████| 19/19 [00:08<00:00,  2.34it/s, train_loss=-1.49, valid_loss=-1.72]\n",
      "[Epoch  77/100]: 100%|██████████| 19/19 [00:08<00:00,  2.23it/s, train_loss=-1.66, valid_loss=-1.86]\n",
      "[Epoch  78/100]: 100%|██████████| 19/19 [00:08<00:00,  2.24it/s, train_loss=-1.74, valid_loss=-1.69]\n",
      "[Epoch  79/100]: 100%|██████████| 19/19 [00:09<00:00,  1.92it/s, train_loss=-1.69, valid_loss=-1.71]\n",
      "[Epoch  80/100]: 100%|██████████| 19/19 [00:08<00:00,  2.12it/s, train_loss=-1.77, valid_loss=-1.77]\n",
      "[Epoch  81/100]: 100%|██████████| 19/19 [00:08<00:00,  2.37it/s, train_loss=-1.76, valid_loss=-1.5]\n",
      "[Epoch  82/100]: 100%|██████████| 19/19 [00:07<00:00,  2.50it/s, train_loss=-1.13, valid_loss=-1.56]\n",
      "[Epoch  83/100]: 100%|██████████| 19/19 [00:08<00:00,  2.31it/s, train_loss=-1.41, valid_loss=-.438]\n",
      "[Epoch  84/100]: 100%|██████████| 19/19 [00:09<00:00,  2.09it/s, train_loss=-1.6, valid_loss=-1.29]\n",
      "[Epoch  85/100]: 100%|██████████| 19/19 [00:07<00:00,  2.57it/s, train_loss=-1.7, valid_loss=-1.28]\n",
      "[Epoch  86/100]: 100%|██████████| 19/19 [00:08<00:00,  2.19it/s, train_loss=-1.72, valid_loss=-1.78]\n",
      "[Epoch  87/100]: 100%|██████████| 19/19 [00:07<00:00,  2.39it/s, train_loss=-1.7, valid_loss=-1.54]\n",
      "[Epoch  88/100]: 100%|██████████| 19/19 [00:09<00:00,  2.00it/s, train_loss=-1.82, valid_loss=-1.51]\n",
      "[Epoch  89/100]: 100%|██████████| 19/19 [00:06<00:00,  2.85it/s, train_loss=-1.79, valid_loss=-1.54]\n",
      "[Epoch  90/100]: 100%|██████████| 19/19 [00:06<00:00,  2.85it/s, train_loss=-1.76, valid_loss=-1.73]\n",
      "[Epoch  91/100]: 100%|██████████| 19/19 [00:06<00:00,  2.87it/s, train_loss=-1.71, valid_loss=-1.29]\n",
      "[Epoch  92/100]: 100%|██████████| 19/19 [00:06<00:00,  2.87it/s, train_loss=-1.82, valid_loss=-1.94]\n",
      "[Epoch  93/100]: 100%|██████████| 19/19 [00:06<00:00,  3.12it/s, train_loss=-1.49, valid_loss=-1.72]\n",
      "[Epoch  94/100]: 100%|██████████| 19/19 [00:06<00:00,  2.73it/s, train_loss=-1.46, valid_loss=-1.56]\n",
      "[Epoch  95/100]: 100%|██████████| 19/19 [00:07<00:00,  2.69it/s, train_loss=-1.21, valid_loss=1.19]\n",
      "[Epoch  96/100]: 100%|██████████| 19/19 [00:06<00:00,  2.86it/s, train_loss=-1.1, valid_loss=-.396]\n",
      "[Epoch  97/100]: 100%|██████████| 19/19 [00:06<00:00,  2.95it/s, train_loss=-1.6, valid_loss=-1.78]\n",
      "[Epoch  98/100]: 100%|██████████| 19/19 [00:06<00:00,  3.04it/s, train_loss=-1.72, valid_loss=-1.48]\n",
      "[Epoch  99/100]: 100%|██████████| 19/19 [00:05<00:00,  3.21it/s, train_loss=-1.74, valid_loss=-1.54]\n",
      "[Epoch 100/100]: 100%|██████████| 19/19 [00:06<00:00,  3.09it/s, train_loss=-1.75, valid_loss=-1.73]\n"
     ]
    }
   ],
   "source": [
    "# Prepare loss history\n",
    "hist_loss = np.zeros(EPOCH)\n",
    "hist_loss_val = np.zeros(EPOCH)\n",
    "\n",
    "# Record the best model\n",
    "valid_loss_best = np.inf\n",
    "\n",
    "for epoch in range(EPOCH):\n",
    "    train_loss = 0\n",
    "    valid_loss = 0\n",
    "    model.train()\n",
    "    with tqdm(total=len(train_loader), desc=f\"[Epoch {epoch+1:3d}/{EPOCH}]\") as pbar:\n",
    "        for idx, batch in enumerate(train_loader):\n",
    "            outputs = model(\n",
    "                past_values=batch[\"past_values\"].to(device),\n",
    "                past_time_features=batch[\"past_time_features\"].to(device),\n",
    "                future_values=batch[\"future_values\"].to(device),\n",
    "                future_time_features=batch[\"future_time_features\"].to(device),\n",
    "                past_observed_mask=batch[\"past_observed_mask\"].to(device),\n",
    "                # future_observed_mask=batch[\"future_observed_mask\"],\n",
    "            )\n",
    "            loss = outputs.loss\n",
    "\n",
    "            optimizer.zero_grad()\n",
    "            loss.backward()\n",
    "            optimizer.step()\n",
    "            train_loss += loss.detach().cpu().item()\n",
    "\n",
    "            pbar.set_postfix({'train_loss': train_loss/(idx+1)})\n",
    "            pbar.update(1)\n",
    "\n",
    "        model.eval()\n",
    "        with torch.no_grad():\n",
    "            for idx, batch in enumerate(valid_loader):\n",
    "                outputs = model(\n",
    "                    past_values=batch[\"past_values\"].to(device),\n",
    "                    past_time_features=batch[\"past_time_features\"].to(device),\n",
    "                    future_values=batch[\"future_values\"].to(device),\n",
    "                    future_time_features=batch[\"future_time_features\"].to(device),\n",
    "                    past_observed_mask=batch[\"past_observed_mask\"].to(device),\n",
    "                )\n",
    "                loss = outputs.loss\n",
    "                valid_loss += loss.detach().cpu().item()\n",
    "                pbar.set_postfix({'valid_loss': valid_loss/(idx+1)})\n",
    "\n",
    "        train_loss /= len(train_loader)\n",
    "        valid_loss /= len(valid_loader)\n",
    "        pbar.set_postfix({'train_loss': train_loss, 'valid_loss': valid_loss})\n",
    "\n",
    "        hist_loss[epoch] = train_loss\n",
    "        hist_loss_val[epoch] = valid_loss\n",
    "\n",
    "        if valid_loss < valid_loss_best:\n",
    "            valid_loss_best = valid_loss\n",
    "            torch.save(model.state_dict(), os.path.join(MODEL_PATH, f\"epoch-{epoch}\"))\n",
    "    "
   ]
  },
  {
   "cell_type": "code",
   "execution_count": 23,
   "metadata": {},
   "outputs": [
    {
     "name": "stdout",
     "output_type": "stream",
     "text": [
      "model exported to ./models-kzt with loss -1.939301\n"
     ]
    },
    {
     "data": {
      "image/png": "[encoded data removed]",
      "text/plain": [
       "<Figure size 640x480 with 1 Axes>"
      ]
     },
     "metadata": {},
     "output_type": "display_data"
    }
   ],
   "source": [
    "plt.plot(hist_loss, label='train')\n",
    "plt.plot(hist_loss_val, label='valid')\n",
    "plt.legend()\n",
    "print(f\"model exported to {MODEL_PATH} with loss {valid_loss_best:6f}\")"
   ]
  },
  {
   "cell_type": "code",
   "execution_count": 28,
   "metadata": {},
   "outputs": [],
   "source": [
    "df = pd.read_csv(\"./preprocessed-data/krwkzt.csv\", index_col=\"Date\")\n",
    "df.index = df.index.map(lambda x: get_date(x))\n",
    "df[\"Close\"] = df[\"Close\"].map(lambda x: float(x))\n",
    "scale = df.iloc[0].values[0]\n",
    "df = df.div(df.iloc[0])"
   ]
  },
  {
   "cell_type": "code",
   "execution_count": 24,
   "metadata": {},
   "outputs": [],
   "source": [
    "def denormalize(x):\n",
    "    return x * scale"
   ]
  },
  {
   "cell_type": "code",
   "execution_count": 27,
   "metadata": {},
   "outputs": [
    {
     "name": "stderr",
     "output_type": "stream",
     "text": [
      "  5%|▌         | 5/100 [00:12<03:57,  2.50s/it, Avg_MSE=0.000147]"
     ]
    }
   ],
   "source": [
    "model.eval()\n",
    "with torch.no_grad():\n",
    "    avg_mse = 0\n",
    "    NUM_LOOP = 100\n",
    "    with tqdm(total=NUM_LOOP) as pbar:\n",
    "        for _ in range(NUM_LOOP):\n",
    "            mse_valid = 0\n",
    "            for idx, batch in enumerate(valid_loader):\n",
    "                outputs = model.generate(\n",
    "                    past_values=batch[\"past_values\"][0].unsqueeze(0).to(device),\n",
    "                    past_time_features=batch[\"past_time_features\"][0].unsqueeze(0).to(device),\n",
    "                    # future_values=batch[\"future_values\"][0].unsqueeze(0).to(device),\n",
    "                    future_time_features=batch[\"future_time_features\"][0].unsqueeze(0).to(device),\n",
    "                    past_observed_mask=batch[\"past_observed_mask\"][0].unsqueeze(0).to(device),\n",
    "                    # num_beams=1,\n",
    "                )\n",
    "\n",
    "                prediction = denormalize(outputs.sequences.mean(dim=1).to(device))\n",
    "                ground_truth = denormalize(batch['future_values'][0].unsqueeze(0).to(device))\n",
    "\n",
    "                mse_valid += mse_loss(prediction, ground_truth).cpu().item()\n",
    "            \n",
    "            avg_mse += mse_valid\n",
    "            pbar.set_postfix({'Avg_MSE': avg_mse/(_+1)})\n",
    "            pbar.update(1)\n",
    "\n",
    "    print(f\"MSE Loss: {avg_mse/(NUM_LOOP)}\")\n",
    "\n",
    "    # plt.plot(prediction.squeeze(0).detach().cpu().numpy(), color=\"orange\")\n",
    "    # plt.plot(ground_truth.squeeze(0).detach().cpu().numpy(), color=\"green\")\n",
    "    # plt.show()"
   ]
  },
  {
   "cell_type": "code",
   "execution_count": 29,
   "metadata": {},
   "outputs": [
    {
     "data": {
      "text/html": [
       "<div>\n",
       "<style scoped>\n",
       "    .dataframe tbody tr th:only-of-type {\n",
       "        vertical-align: middle;\n",
       "    }\n",
       "\n",
       "    .dataframe tbody tr th {\n",
       "        vertical-align: top;\n",
       "    }\n",
       "\n",
       "    .dataframe thead th {\n",
       "        text-align: right;\n",
       "    }\n",
       "</style>\n",
       "<table border=\"1\" class=\"dataframe\">\n",
       "  <thead>\n",
       "    <tr style=\"text-align: right;\">\n",
       "      <th></th>\n",
       "      <th>Close</th>\n",
       "    </tr>\n",
       "    <tr>\n",
       "      <th>Date</th>\n",
       "      <th></th>\n",
       "    </tr>\n",
       "  </thead>\n",
       "  <tbody>\n",
       "    <tr>\n",
       "      <th>2004-01-02</th>\n",
       "      <td>1.000000</td>\n",
       "    </tr>\n",
       "    <tr>\n",
       "      <th>2004-01-05</th>\n",
       "      <td>0.991265</td>\n",
       "    </tr>\n",
       "    <tr>\n",
       "      <th>2004-01-06</th>\n",
       "      <td>0.997749</td>\n",
       "    </tr>\n",
       "    <tr>\n",
       "      <th>2004-01-07</th>\n",
       "      <td>0.988689</td>\n",
       "    </tr>\n",
       "    <tr>\n",
       "      <th>2004-01-08</th>\n",
       "      <td>0.993674</td>\n",
       "    </tr>\n",
       "    <tr>\n",
       "      <th>...</th>\n",
       "      <td>...</td>\n",
       "    </tr>\n",
       "    <tr>\n",
       "      <th>2023-10-27</th>\n",
       "      <td>2.988768</td>\n",
       "    </tr>\n",
       "    <tr>\n",
       "      <th>2023-10-28</th>\n",
       "      <td>2.988659</td>\n",
       "    </tr>\n",
       "    <tr>\n",
       "      <th>2023-10-29</th>\n",
       "      <td>2.988659</td>\n",
       "    </tr>\n",
       "    <tr>\n",
       "      <th>2023-10-30</th>\n",
       "      <td>3.017904</td>\n",
       "    </tr>\n",
       "    <tr>\n",
       "      <th>2023-10-31</th>\n",
       "      <td>2.995632</td>\n",
       "    </tr>\n",
       "  </tbody>\n",
       "</table>\n",
       "<p>5954 rows × 1 columns</p>\n",
       "</div>"
      ],
      "text/plain": [
       "               Close\n",
       "Date                \n",
       "2004-01-02  1.000000\n",
       "2004-01-05  0.991265\n",
       "2004-01-06  0.997749\n",
       "2004-01-07  0.988689\n",
       "2004-01-08  0.993674\n",
       "...              ...\n",
       "2023-10-27  2.988768\n",
       "2023-10-28  2.988659\n",
       "2023-10-29  2.988659\n",
       "2023-10-30  3.017904\n",
       "2023-10-31  2.995632\n",
       "\n",
       "[5954 rows x 1 columns]"
      ]
     },
     "execution_count": 29,
     "metadata": {},
     "output_type": "execute_result"
    }
   ],
   "source": [
    "df"
   ]
  },
  {
   "cell_type": "code",
   "execution_count": 30,
   "metadata": {},
   "outputs": [
    {
     "data": {
      "text/html": [
       "<div>\n",
       "<style scoped>\n",
       "    .dataframe tbody tr th:only-of-type {\n",
       "        vertical-align: middle;\n",
       "    }\n",
       "\n",
       "    .dataframe tbody tr th {\n",
       "        vertical-align: top;\n",
       "    }\n",
       "\n",
       "    .dataframe thead th {\n",
       "        text-align: right;\n",
       "    }\n",
       "</style>\n",
       "<table border=\"1\" class=\"dataframe\">\n",
       "  <thead>\n",
       "    <tr style=\"text-align: right;\">\n",
       "      <th></th>\n",
       "      <th>Close</th>\n",
       "    </tr>\n",
       "    <tr>\n",
       "      <th>Date</th>\n",
       "      <th></th>\n",
       "    </tr>\n",
       "  </thead>\n",
       "  <tbody>\n",
       "    <tr>\n",
       "      <th>2023-07-21</th>\n",
       "      <td>2.992769</td>\n",
       "    </tr>\n",
       "    <tr>\n",
       "      <th>2023-07-22</th>\n",
       "      <td>2.990081</td>\n",
       "    </tr>\n",
       "    <tr>\n",
       "      <th>2023-07-23</th>\n",
       "      <td>2.990081</td>\n",
       "    </tr>\n",
       "    <tr>\n",
       "      <th>2023-07-24</th>\n",
       "      <td>3.005961</td>\n",
       "    </tr>\n",
       "    <tr>\n",
       "      <th>2023-07-25</th>\n",
       "      <td>3.016126</td>\n",
       "    </tr>\n",
       "    <tr>\n",
       "      <th>...</th>\n",
       "      <td>...</td>\n",
       "    </tr>\n",
       "    <tr>\n",
       "      <th>2023-10-27</th>\n",
       "      <td>2.988768</td>\n",
       "    </tr>\n",
       "    <tr>\n",
       "      <th>2023-10-28</th>\n",
       "      <td>2.988659</td>\n",
       "    </tr>\n",
       "    <tr>\n",
       "      <th>2023-10-29</th>\n",
       "      <td>2.988659</td>\n",
       "    </tr>\n",
       "    <tr>\n",
       "      <th>2023-10-30</th>\n",
       "      <td>3.017904</td>\n",
       "    </tr>\n",
       "    <tr>\n",
       "      <th>2023-10-31</th>\n",
       "      <td>2.995632</td>\n",
       "    </tr>\n",
       "  </tbody>\n",
       "</table>\n",
       "<p>103 rows × 1 columns</p>\n",
       "</div>"
      ],
      "text/plain": [
       "               Close\n",
       "Date                \n",
       "2023-07-21  2.992769\n",
       "2023-07-22  2.990081\n",
       "2023-07-23  2.990081\n",
       "2023-07-24  3.005961\n",
       "2023-07-25  3.016126\n",
       "...              ...\n",
       "2023-10-27  2.988768\n",
       "2023-10-28  2.988659\n",
       "2023-10-29  2.988659\n",
       "2023-10-30  3.017904\n",
       "2023-10-31  2.995632\n",
       "\n",
       "[103 rows x 1 columns]"
      ]
     },
     "execution_count": 30,
     "metadata": {},
     "output_type": "execute_result"
    }
   ],
   "source": [
    "df[-96-7:]"
   ]
  },
  {
   "cell_type": "code",
   "execution_count": 31,
   "metadata": {},
   "outputs": [
    {
     "data": {
      "text/html": [
       "<div>\n",
       "<style scoped>\n",
       "    .dataframe tbody tr th:only-of-type {\n",
       "        vertical-align: middle;\n",
       "    }\n",
       "\n",
       "    .dataframe tbody tr th {\n",
       "        vertical-align: top;\n",
       "    }\n",
       "\n",
       "    .dataframe thead th {\n",
       "        text-align: right;\n",
       "    }\n",
       "</style>\n",
       "<table border=\"1\" class=\"dataframe\">\n",
       "  <thead>\n",
       "    <tr style=\"text-align: right;\">\n",
       "      <th></th>\n",
       "      <th>Close</th>\n",
       "    </tr>\n",
       "    <tr>\n",
       "      <th>Date</th>\n",
       "      <th></th>\n",
       "    </tr>\n",
       "  </thead>\n",
       "  <tbody>\n",
       "    <tr>\n",
       "      <th>2023-11-01</th>\n",
       "      <td>3.008319</td>\n",
       "    </tr>\n",
       "    <tr>\n",
       "      <th>2023-11-02</th>\n",
       "      <td>3.017583</td>\n",
       "    </tr>\n",
       "    <tr>\n",
       "      <th>2023-11-03</th>\n",
       "      <td>3.042719</td>\n",
       "    </tr>\n",
       "    <tr>\n",
       "      <th>2023-11-04</th>\n",
       "      <td>3.042360</td>\n",
       "    </tr>\n",
       "    <tr>\n",
       "      <th>2023-11-05</th>\n",
       "      <td>3.042360</td>\n",
       "    </tr>\n",
       "  </tbody>\n",
       "</table>\n",
       "</div>"
      ],
      "text/plain": [
       "               Close\n",
       "Date                \n",
       "2023-11-01  3.008319\n",
       "2023-11-02  3.017583\n",
       "2023-11-03  3.042719\n",
       "2023-11-04  3.042360\n",
       "2023-11-05  3.042360"
      ]
     },
     "execution_count": 31,
     "metadata": {},
     "output_type": "execute_result"
    }
   ],
   "source": [
    "test_df = pd.read_csv(\"./krwkzt-test.csv\")\n",
    "test_df[\"Close\"] = test_df.Close.map(lambda x: np.float32(x.replace(\",\", \".\")))\n",
    "test_df[\"Date\"] = test_df.Date.map(lambda x: pd.to_datetime(x, dayfirst=True).date())\n",
    "test_df[\"Close\"] = test_df[\"Close\"] / scale\n",
    "test_df = test_df.set_index(\"Date\")\n",
    "test_df.head()"
   ]
  },
  {
   "cell_type": "code",
   "execution_count": 32,
   "metadata": {},
   "outputs": [
    {
     "data": {
      "text/html": [
       "<div>\n",
       "<style scoped>\n",
       "    .dataframe tbody tr th:only-of-type {\n",
       "        vertical-align: middle;\n",
       "    }\n",
       "\n",
       "    .dataframe tbody tr th {\n",
       "        vertical-align: top;\n",
       "    }\n",
       "\n",
       "    .dataframe thead th {\n",
       "        text-align: right;\n",
       "    }\n",
       "</style>\n",
       "<table border=\"1\" class=\"dataframe\">\n",
       "  <thead>\n",
       "    <tr style=\"text-align: right;\">\n",
       "      <th></th>\n",
       "      <th>Close</th>\n",
       "    </tr>\n",
       "    <tr>\n",
       "      <th>Date</th>\n",
       "      <th></th>\n",
       "    </tr>\n",
       "  </thead>\n",
       "  <tbody>\n",
       "    <tr>\n",
       "      <th>2023-07-21</th>\n",
       "      <td>2.992769</td>\n",
       "    </tr>\n",
       "    <tr>\n",
       "      <th>2023-07-22</th>\n",
       "      <td>2.990081</td>\n",
       "    </tr>\n",
       "    <tr>\n",
       "      <th>2023-07-23</th>\n",
       "      <td>2.990081</td>\n",
       "    </tr>\n",
       "    <tr>\n",
       "      <th>2023-07-24</th>\n",
       "      <td>3.005961</td>\n",
       "    </tr>\n",
       "    <tr>\n",
       "      <th>2023-07-25</th>\n",
       "      <td>3.016126</td>\n",
       "    </tr>\n",
       "    <tr>\n",
       "      <th>...</th>\n",
       "      <td>...</td>\n",
       "    </tr>\n",
       "    <tr>\n",
       "      <th>2023-11-26</th>\n",
       "      <td>3.041276</td>\n",
       "    </tr>\n",
       "    <tr>\n",
       "      <th>2023-11-27</th>\n",
       "      <td>3.042015</td>\n",
       "    </tr>\n",
       "    <tr>\n",
       "      <th>2023-11-28</th>\n",
       "      <td>3.055723</td>\n",
       "    </tr>\n",
       "    <tr>\n",
       "      <th>2023-11-29</th>\n",
       "      <td>3.073844</td>\n",
       "    </tr>\n",
       "    <tr>\n",
       "      <th>2023-11-30</th>\n",
       "      <td>3.058337</td>\n",
       "    </tr>\n",
       "  </tbody>\n",
       "</table>\n",
       "<p>133 rows × 1 columns</p>\n",
       "</div>"
      ],
      "text/plain": [
       "               Close\n",
       "Date                \n",
       "2023-07-21  2.992769\n",
       "2023-07-22  2.990081\n",
       "2023-07-23  2.990081\n",
       "2023-07-24  3.005961\n",
       "2023-07-25  3.016126\n",
       "...              ...\n",
       "2023-11-26  3.041276\n",
       "2023-11-27  3.042015\n",
       "2023-11-28  3.055723\n",
       "2023-11-29  3.073844\n",
       "2023-11-30  3.058337\n",
       "\n",
       "[133 rows x 1 columns]"
      ]
     },
     "execution_count": 32,
     "metadata": {},
     "output_type": "execute_result"
    }
   ],
   "source": [
    "data = pd.concat([df[-96-7:], test_df])\n",
    "data\n",
    "# create_sequences(df[:train_size], context_len+max(configuration.lags_sequence), prediction_len)"
   ]
  },
  {
   "cell_type": "code",
   "execution_count": 33,
   "metadata": {},
   "outputs": [
    {
     "name": "stderr",
     "output_type": "stream",
     "text": [
      "100%|██████████| 1/1 [00:00<00:00, 630.72it/s]\n"
     ]
    }
   ],
   "source": [
    "inp = create_sequences(data, 96+max(configuration.lags_sequence), 30)"
   ]
  },
  {
   "cell_type": "code",
   "execution_count": 101,
   "metadata": {},
   "outputs": [
    {
     "data": {
      "text/plain": [
       "<All keys matched successfully>"
      ]
     },
     "execution_count": 101,
     "metadata": {},
     "output_type": "execute_result"
    }
   ],
   "source": [
    "model.load_state_dict(torch.load(f\"{MODEL_PATH}/epoch-32\"))"
   ]
  },
  {
   "cell_type": "code",
   "execution_count": 102,
   "metadata": {},
   "outputs": [
    {
     "name": "stdout",
     "output_type": "stream",
     "text": [
      "[0.3490258  0.3520236  0.3478734  0.35201102 0.35014856 0.34696764\n",
      " 0.3479426  0.34919867 0.3468091  0.35259932 0.35049793 0.3462936\n",
      " 0.34995866 0.34811363 0.35067692 0.34871182 0.34511542 0.34970045\n",
      " 0.34730652 0.35347205 0.349125   0.3481722  0.35077325 0.35111147\n",
      " 0.35350922 0.35056013 0.3475059  0.35081002 0.3521096  0.3515084 ]\n"
     ]
    }
   ],
   "source": [
    "model.eval()\n",
    "with torch.no_grad():\n",
    "    outputs = model.generate(\n",
    "        past_values=inp[0][\"past_values\"].unsqueeze(0).to(device),\n",
    "        past_time_features=inp[0][\"past_time_features\"].unsqueeze(0).to(device),\n",
    "        # future_values=inp[0][\"future_values\"].unsqueeze(0).to(device),\n",
    "        future_time_features=inp[0][\"future_time_features\"].unsqueeze(0).to(device),\n",
    "        past_observed_mask=inp[0][\"past_observed_mask\"].unsqueeze(0).to(device),\n",
    "        # num_beams=1,\n",
    "    )\n",
    "    # print(outputs.sequences.mean(dim=1).squeeze(0).cpu())\n",
    "    prediction = denormalize(outputs.sequences.mean(dim=1).squeeze(0).cpu().numpy())\n",
    "    print(prediction)"
   ]
  },
  {
   "cell_type": "code",
   "execution_count": 103,
   "metadata": {},
   "outputs": [
    {
     "name": "stdout",
     "output_type": "stream",
     "text": [
      "[0.34832987 0.34940252 0.35231298 0.35227144 0.35227144 0.35701582\n",
      " 0.3565124  0.35835826 0.3563158  0.35279942 0.35332152 0.35332152\n",
      " 0.35301498 0.3552217  0.3554606  0.35736582 0.3561715  0.35613874\n",
      " 0.35613874 0.35904092 0.35383996 0.3525469  0.3503616  0.35303703\n",
      " 0.35208756 0.35214597 0.35223144 0.3538187  0.35591698 0.3541214 ]\n"
     ]
    }
   ],
   "source": [
    "ground_truth = denormalize(inp[0]['future_values'].numpy())\n",
    "print(ground_truth)"
   ]
  },
  {
   "cell_type": "code",
   "execution_count": 104,
   "metadata": {},
   "outputs": [
    {
     "data": {
      "text/plain": [
       "tensor(3.2352e-05)"
      ]
     },
     "execution_count": 104,
     "metadata": {},
     "output_type": "execute_result"
    }
   ],
   "source": [
    "mse_loss(torch.Tensor(prediction), torch.Tensor(ground_truth))"
   ]
  },
  {
   "cell_type": "code",
   "execution_count": 105,
   "metadata": {},
   "outputs": [
    {
     "data": {
      "image/png": "[encoded data removed]",
      "text/plain": [
       "<Figure size 640x480 with 1 Axes>"
      ]
     },
     "metadata": {},
     "output_type": "display_data"
    }
   ],
   "source": [
    "mse = mse_loss(torch.Tensor(prediction), torch.Tensor(ground_truth))\n",
    "denormalized_data = denormalize(df[-96-7:][\"Close\"].to_numpy())\n",
    "num_lookback = denormalized_data.shape[0]\n",
    "\n",
    "plt.plot(denormalized_data, label=\"lookback data\")\n",
    "plt.plot(np.concatenate([np.ones(num_lookback) * np.nan, prediction]), label='prediction')\n",
    "plt.plot(np.concatenate([np.ones(num_lookback) * np.nan, ground_truth]), label='ground truth')\n",
    "plt.title(f\"Transformer forecast with MSE={mse:.6f}\")\n",
    "plt.axvline(x=denormalized_data.shape[0], c='r', linestyle='--')\n",
    "plt.legend()\n",
    "plt.show()"
   ]
  },
  {
   "cell_type": "code",
   "execution_count": 40,
   "metadata": {},
   "outputs": [
    {
     "data": {
      "text/plain": [
       "array([0.34652936, 0.34621808, 0.34621808, 0.34805682, 0.34923384,\n",
       "       0.34912917, 0.3462993 , 0.34835768, 0.34829774, 0.34835494,\n",
       "       0.3481757 , 0.34486678, 0.34347802, 0.3428007 , 0.33903614,\n",
       "       0.3389194 , 0.33938754, 0.3413872 , 0.33908686, 0.33927846,\n",
       "       0.33762828, 0.3365877 , 0.3365879 , 0.33696312, 0.33714962,\n",
       "       0.33762127, 0.34241486, 0.34495428, 0.34486935, 0.33793828,\n",
       "       0.3379381 , 0.33895728, 0.33824635, 0.34797326, 0.3462925 ,\n",
       "       0.35123047, 0.35124132, 0.35123047, 0.35029545, 0.35029328,\n",
       "       0.35010892, 0.34576336, 0.3486311 , 0.34718627, 0.34862846,\n",
       "       0.34790233, 0.3463634 , 0.34748933, 0.34771538, 0.34748793,\n",
       "       0.34756935, 0.34712696, 0.34931308, 0.34924504, 0.3503521 ,\n",
       "       0.35082465, 0.35211912, 0.35151026, 0.35152593, 0.35560095,\n",
       "       0.35453057, 0.35558462, 0.35569817, 0.35450757, 0.35450774,\n",
       "       0.35450622, 0.35387444, 0.35409632, 0.3545214 , 0.35187912,\n",
       "       0.35389045, 0.35396388, 0.35388783, 0.35233793, 0.3507878 ,\n",
       "       0.35312447, 0.35427895, 0.35348454, 0.3534703 , 0.35348323,\n",
       "       0.35477445, 0.35563833, 0.3569667 , 0.35370815, 0.35255128,\n",
       "       0.35255128, 0.35254997, 0.35403028, 0.35279384, 0.3535316 ,\n",
       "       0.35331604, 0.3550638 , 0.35446516, 0.3544702 , 0.35537115,\n",
       "       0.35487238, 0.3523893 , 0.35118374, 0.34606606, 0.3460535 ,\n",
       "       0.3460535 , 0.34943968, 0.34686083, 0.34832987, 0.34940251,\n",
       "       0.35231298, 0.35227143, 0.35227143, 0.35701581, 0.35651241,\n",
       "       0.35835827, 0.3563158 , 0.3527994 , 0.35332152, 0.35332152,\n",
       "       0.35301498, 0.35522168, 0.35546062, 0.35736583, 0.3561715 ,\n",
       "       0.35613873, 0.35613873, 0.35904092, 0.35383996, 0.35254689,\n",
       "       0.35036158, 0.35303704, 0.35208755, 0.35214596, 0.35223143,\n",
       "       0.35381871, 0.35591697, 0.35412138])"
      ]
     },
     "execution_count": 40,
     "metadata": {},
     "output_type": "execute_result"
    }
   ],
   "source": [
    "denormalized_data = denormalize(data[\"Close\"].to_numpy())"
   ]
  }
 ],
 "metadata": {
  "kernelspec": {
   "display_name": "tsa",
   "language": "python",
   "name": "python3"
  },
  "language_info": {
   "codemirror_mode": {
    "name": "ipython",
    "version": 3
   },
   "file_extension": ".py",
   "mimetype": "text/x-python",
   "name": "python",
   "nbconvert_exporter": "python",
   "pygments_lexer": "ipython3",
   "version": "3.10.11"
  },
  "orig_nbformat": 4
 },
 "nbformat": 4,
 "nbformat_minor": 2
}
