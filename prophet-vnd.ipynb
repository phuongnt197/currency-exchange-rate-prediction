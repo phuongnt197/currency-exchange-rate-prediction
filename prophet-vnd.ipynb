{
 "cells": [
  {
   "cell_type": "code",
   "execution_count": 1,
   "metadata": {},
   "outputs": [],
   "source": [
    "import numpy as np\n",
    "import pandas as pd\n",
    "import matplotlib.pyplot as plt"
   ]
  },
  {
   "cell_type": "code",
   "execution_count": 2,
   "metadata": {},
   "outputs": [
    {
     "name": "stderr",
     "output_type": "stream",
     "text": [
      "e:\\unist\\time-series\\currency-exchange-forecast\\venv\\lib\\site-packages\\tqdm\\auto.py:21: TqdmWarning: IProgress not found. Please update jupyter and ipywidgets. See https://ipywidgets.readthedocs.io/en/stable/user_install.html\n",
      "  from .autonotebook import tqdm as notebook_tqdm\n",
      "Importing plotly failed. Interactive plots will not work.\n"
     ]
    }
   ],
   "source": [
    "from prophet import Prophet\n",
    "from prophet.diagnostics import cross_validation\n",
    "from sklearn.preprocessing import MinMaxScaler\n",
    "from sklearn.metrics import mean_squared_error"
   ]
  },
  {
   "cell_type": "code",
   "execution_count": 3,
   "metadata": {},
   "outputs": [
    {
     "data": {
      "text/html": [
       "<div>\n",
       "<style scoped>\n",
       "    .dataframe tbody tr th:only-of-type {\n",
       "        vertical-align: middle;\n",
       "    }\n",
       "\n",
       "    .dataframe tbody tr th {\n",
       "        vertical-align: top;\n",
       "    }\n",
       "\n",
       "    .dataframe thead th {\n",
       "        text-align: right;\n",
       "    }\n",
       "</style>\n",
       "<table border=\"1\" class=\"dataframe\">\n",
       "  <thead>\n",
       "    <tr style=\"text-align: right;\">\n",
       "      <th></th>\n",
       "      <th>ds</th>\n",
       "      <th>y</th>\n",
       "    </tr>\n",
       "  </thead>\n",
       "  <tbody>\n",
       "    <tr>\n",
       "      <th>0</th>\n",
       "      <td>2004-01-02</td>\n",
       "      <td>12.661377</td>\n",
       "    </tr>\n",
       "    <tr>\n",
       "      <th>1</th>\n",
       "      <td>2004-01-05</td>\n",
       "      <td>12.597076</td>\n",
       "    </tr>\n",
       "    <tr>\n",
       "      <th>2</th>\n",
       "      <td>2004-01-06</td>\n",
       "      <td>12.724485</td>\n",
       "    </tr>\n",
       "    <tr>\n",
       "      <th>3</th>\n",
       "      <td>2004-01-07</td>\n",
       "      <td>12.622449</td>\n",
       "    </tr>\n",
       "    <tr>\n",
       "      <th>4</th>\n",
       "      <td>2004-01-08</td>\n",
       "      <td>12.665998</td>\n",
       "    </tr>\n",
       "    <tr>\n",
       "      <th>...</th>\n",
       "      <td>...</td>\n",
       "      <td>...</td>\n",
       "    </tr>\n",
       "    <tr>\n",
       "      <th>5974</th>\n",
       "      <td>2023-10-27</td>\n",
       "      <td>18.123903</td>\n",
       "    </tr>\n",
       "    <tr>\n",
       "      <th>5975</th>\n",
       "      <td>2023-10-28</td>\n",
       "      <td>18.123247</td>\n",
       "    </tr>\n",
       "    <tr>\n",
       "      <th>5976</th>\n",
       "      <td>2023-10-29</td>\n",
       "      <td>18.123247</td>\n",
       "    </tr>\n",
       "    <tr>\n",
       "      <th>5977</th>\n",
       "      <td>2023-10-30</td>\n",
       "      <td>18.211071</td>\n",
       "    </tr>\n",
       "    <tr>\n",
       "      <th>5978</th>\n",
       "      <td>2023-10-31</td>\n",
       "      <td>18.172880</td>\n",
       "    </tr>\n",
       "  </tbody>\n",
       "</table>\n",
       "<p>5979 rows × 2 columns</p>\n",
       "</div>"
      ],
      "text/plain": [
       "             ds          y\n",
       "0    2004-01-02  12.661377\n",
       "1    2004-01-05  12.597076\n",
       "2    2004-01-06  12.724485\n",
       "3    2004-01-07  12.622449\n",
       "4    2004-01-08  12.665998\n",
       "...         ...        ...\n",
       "5974 2023-10-27  18.123903\n",
       "5975 2023-10-28  18.123247\n",
       "5976 2023-10-29  18.123247\n",
       "5977 2023-10-30  18.211071\n",
       "5978 2023-10-31  18.172880\n",
       "\n",
       "[5979 rows x 2 columns]"
      ]
     },
     "execution_count": 3,
     "metadata": {},
     "output_type": "execute_result"
    }
   ],
   "source": [
    "data = pd.read_csv(\"preprocessed-data/krwvnd.csv\")\n",
    "data.rename(columns={'Date': 'ds', 'Close':'y'}, inplace=True)\n",
    "data[\"ds\"] = pd.to_datetime(data[\"ds\"])\n",
    "data"
   ]
  },
  {
   "cell_type": "code",
   "execution_count": 4,
   "metadata": {},
   "outputs": [
    {
     "data": {
      "text/html": [
       "<div>\n",
       "<style scoped>\n",
       "    .dataframe tbody tr th:only-of-type {\n",
       "        vertical-align: middle;\n",
       "    }\n",
       "\n",
       "    .dataframe tbody tr th {\n",
       "        vertical-align: top;\n",
       "    }\n",
       "\n",
       "    .dataframe thead th {\n",
       "        text-align: right;\n",
       "    }\n",
       "</style>\n",
       "<table border=\"1\" class=\"dataframe\">\n",
       "  <thead>\n",
       "    <tr style=\"text-align: right;\">\n",
       "      <th></th>\n",
       "      <th>ds</th>\n",
       "      <th>y</th>\n",
       "    </tr>\n",
       "  </thead>\n",
       "  <tbody>\n",
       "    <tr>\n",
       "      <th>0</th>\n",
       "      <td>2004-01-02</td>\n",
       "      <td>0.174987</td>\n",
       "    </tr>\n",
       "    <tr>\n",
       "      <th>1</th>\n",
       "      <td>2004-01-05</td>\n",
       "      <td>0.169033</td>\n",
       "    </tr>\n",
       "    <tr>\n",
       "      <th>2</th>\n",
       "      <td>2004-01-06</td>\n",
       "      <td>0.180832</td>\n",
       "    </tr>\n",
       "    <tr>\n",
       "      <th>3</th>\n",
       "      <td>2004-01-07</td>\n",
       "      <td>0.171383</td>\n",
       "    </tr>\n",
       "    <tr>\n",
       "      <th>4</th>\n",
       "      <td>2004-01-08</td>\n",
       "      <td>0.175415</td>\n",
       "    </tr>\n",
       "    <tr>\n",
       "      <th>...</th>\n",
       "      <td>...</td>\n",
       "      <td>...</td>\n",
       "    </tr>\n",
       "    <tr>\n",
       "      <th>5974</th>\n",
       "      <td>2023-10-27</td>\n",
       "      <td>0.680851</td>\n",
       "    </tr>\n",
       "    <tr>\n",
       "      <th>5975</th>\n",
       "      <td>2023-10-28</td>\n",
       "      <td>0.680791</td>\n",
       "    </tr>\n",
       "    <tr>\n",
       "      <th>5976</th>\n",
       "      <td>2023-10-29</td>\n",
       "      <td>0.680791</td>\n",
       "    </tr>\n",
       "    <tr>\n",
       "      <th>5977</th>\n",
       "      <td>2023-10-30</td>\n",
       "      <td>0.688924</td>\n",
       "    </tr>\n",
       "    <tr>\n",
       "      <th>5978</th>\n",
       "      <td>2023-10-31</td>\n",
       "      <td>0.685387</td>\n",
       "    </tr>\n",
       "  </tbody>\n",
       "</table>\n",
       "<p>5979 rows × 2 columns</p>\n",
       "</div>"
      ],
      "text/plain": [
       "             ds         y\n",
       "0    2004-01-02  0.174987\n",
       "1    2004-01-05  0.169033\n",
       "2    2004-01-06  0.180832\n",
       "3    2004-01-07  0.171383\n",
       "4    2004-01-08  0.175415\n",
       "...         ...       ...\n",
       "5974 2023-10-27  0.680851\n",
       "5975 2023-10-28  0.680791\n",
       "5976 2023-10-29  0.680791\n",
       "5977 2023-10-30  0.688924\n",
       "5978 2023-10-31  0.685387\n",
       "\n",
       "[5979 rows x 2 columns]"
      ]
     },
     "execution_count": 4,
     "metadata": {},
     "output_type": "execute_result"
    }
   ],
   "source": [
    "scaler = MinMaxScaler(feature_range=(0, 1))\n",
    "data[['y']] = scaler.fit_transform(data[['y']])\n",
    "data"
   ]
  },
  {
   "cell_type": "code",
   "execution_count": 5,
   "metadata": {},
   "outputs": [],
   "source": [
    "# context_length = 96\n",
    "# for i in range(context_length):\n",
    "#     data[f'y_lag_{i}'] = data['y'].shift(i)\n",
    "# data = data.dropna()"
   ]
  },
  {
   "cell_type": "code",
   "execution_count": 6,
   "metadata": {},
   "outputs": [
    {
     "name": "stdout",
     "output_type": "stream",
     "text": [
      "4783 1196\n"
     ]
    }
   ],
   "source": [
    "train_size = int(len(data) * 0.8)\n",
    "test_size = len(data) - train_size\n",
    "train, test = data.iloc[0:train_size], data.iloc[train_size:len(data)]\n",
    "print(len(train), len(test))"
   ]
  },
  {
   "cell_type": "code",
   "execution_count": 7,
   "metadata": {},
   "outputs": [],
   "source": [
    "param_grid = {\n",
    "    'seasonality_mode': ['additive', 'multiplicative'], #['additive', 'multiplicative']\n",
    "    'changepoint_prior_scale': [0.001, 0.01, 0.1, 0.5], #[0.01, 0.1, 0.5]\n",
    "    'seasonality_prior_scale': [0.01, 0.1, 1.0, 10.0], #[1, 10, 30]\n",
    "}\n"
   ]
  },
  {
   "cell_type": "code",
   "execution_count": 8,
   "metadata": {},
   "outputs": [],
   "source": [
    "best_params = {}\n",
    "best_score = float('inf')"
   ]
  },
  {
   "cell_type": "code",
   "execution_count": 9,
   "metadata": {},
   "outputs": [
    {
     "name": "stderr",
     "output_type": "stream",
     "text": [
      "23:16:24 - cmdstanpy - INFO - Chain [1] start processing\n",
      "23:16:24 - cmdstanpy - INFO - Chain [1] done processing\n"
     ]
    },
    {
     "name": "stdout",
     "output_type": "stream",
     "text": [
      "additive 0.001 0.01 0.347493666727049\n"
     ]
    },
    {
     "name": "stderr",
     "output_type": "stream",
     "text": [
      "23:16:26 - cmdstanpy - INFO - Chain [1] start processing\n",
      "23:16:26 - cmdstanpy - INFO - Chain [1] done processing\n"
     ]
    },
    {
     "name": "stdout",
     "output_type": "stream",
     "text": [
      "additive 0.001 0.1 0.35347898684778073\n"
     ]
    },
    {
     "name": "stderr",
     "output_type": "stream",
     "text": [
      "23:16:27 - cmdstanpy - INFO - Chain [1] start processing\n",
      "23:16:28 - cmdstanpy - INFO - Chain [1] done processing\n"
     ]
    },
    {
     "name": "stdout",
     "output_type": "stream",
     "text": [
      "additive 0.001 1.0 0.3470569873945604\n"
     ]
    },
    {
     "name": "stderr",
     "output_type": "stream",
     "text": [
      "23:16:29 - cmdstanpy - INFO - Chain [1] start processing\n",
      "23:16:29 - cmdstanpy - INFO - Chain [1] done processing\n"
     ]
    },
    {
     "name": "stdout",
     "output_type": "stream",
     "text": [
      "additive 0.001 10.0 0.34872903651337506\n"
     ]
    },
    {
     "name": "stderr",
     "output_type": "stream",
     "text": [
      "23:16:31 - cmdstanpy - INFO - Chain [1] start processing\n",
      "23:16:31 - cmdstanpy - INFO - Chain [1] done processing\n"
     ]
    },
    {
     "name": "stdout",
     "output_type": "stream",
     "text": [
      "additive 0.01 0.01 0.023430072791355852\n"
     ]
    },
    {
     "name": "stderr",
     "output_type": "stream",
     "text": [
      "23:16:33 - cmdstanpy - INFO - Chain [1] start processing\n",
      "23:16:33 - cmdstanpy - INFO - Chain [1] done processing\n"
     ]
    },
    {
     "name": "stdout",
     "output_type": "stream",
     "text": [
      "additive 0.01 0.1 0.015761532645786114\n"
     ]
    },
    {
     "name": "stderr",
     "output_type": "stream",
     "text": [
      "23:16:35 - cmdstanpy - INFO - Chain [1] start processing\n",
      "23:16:35 - cmdstanpy - INFO - Chain [1] done processing\n"
     ]
    },
    {
     "name": "stdout",
     "output_type": "stream",
     "text": [
      "additive 0.01 1.0 0.014670771325763136\n"
     ]
    },
    {
     "name": "stderr",
     "output_type": "stream",
     "text": [
      "23:16:37 - cmdstanpy - INFO - Chain [1] start processing\n",
      "23:16:37 - cmdstanpy - INFO - Chain [1] done processing\n"
     ]
    },
    {
     "name": "stdout",
     "output_type": "stream",
     "text": [
      "additive 0.01 10.0 0.0216394377257964\n"
     ]
    },
    {
     "name": "stderr",
     "output_type": "stream",
     "text": [
      "23:16:39 - cmdstanpy - INFO - Chain [1] start processing\n",
      "23:16:40 - cmdstanpy - INFO - Chain [1] done processing\n"
     ]
    },
    {
     "name": "stdout",
     "output_type": "stream",
     "text": [
      "additive 0.1 0.01 0.2120349095935444\n"
     ]
    },
    {
     "name": "stderr",
     "output_type": "stream",
     "text": [
      "23:16:42 - cmdstanpy - INFO - Chain [1] start processing\n",
      "23:16:43 - cmdstanpy - INFO - Chain [1] done processing\n"
     ]
    },
    {
     "name": "stdout",
     "output_type": "stream",
     "text": [
      "additive 0.1 0.1 0.20863723501727183\n"
     ]
    },
    {
     "name": "stderr",
     "output_type": "stream",
     "text": [
      "23:16:45 - cmdstanpy - INFO - Chain [1] start processing\n",
      "23:16:46 - cmdstanpy - INFO - Chain [1] done processing\n"
     ]
    },
    {
     "name": "stdout",
     "output_type": "stream",
     "text": [
      "additive 0.1 1.0 0.20868641032214935\n"
     ]
    },
    {
     "name": "stderr",
     "output_type": "stream",
     "text": [
      "23:16:48 - cmdstanpy - INFO - Chain [1] start processing\n",
      "23:16:49 - cmdstanpy - INFO - Chain [1] done processing\n"
     ]
    },
    {
     "name": "stdout",
     "output_type": "stream",
     "text": [
      "additive 0.1 10.0 0.2124140484433874\n"
     ]
    },
    {
     "name": "stderr",
     "output_type": "stream",
     "text": [
      "23:16:51 - cmdstanpy - INFO - Chain [1] start processing\n",
      "23:16:52 - cmdstanpy - INFO - Chain [1] done processing\n"
     ]
    },
    {
     "name": "stdout",
     "output_type": "stream",
     "text": [
      "additive 0.5 0.01 0.25486160815343223\n"
     ]
    },
    {
     "name": "stderr",
     "output_type": "stream",
     "text": [
      "23:16:54 - cmdstanpy - INFO - Chain [1] start processing\n",
      "23:16:56 - cmdstanpy - INFO - Chain [1] done processing\n"
     ]
    },
    {
     "name": "stdout",
     "output_type": "stream",
     "text": [
      "additive 0.5 0.1 0.2583258952869238\n"
     ]
    },
    {
     "name": "stderr",
     "output_type": "stream",
     "text": [
      "23:16:57 - cmdstanpy - INFO - Chain [1] start processing\n",
      "23:16:59 - cmdstanpy - INFO - Chain [1] done processing\n"
     ]
    },
    {
     "name": "stdout",
     "output_type": "stream",
     "text": [
      "additive 0.5 1.0 0.25673739834736087\n"
     ]
    },
    {
     "name": "stderr",
     "output_type": "stream",
     "text": [
      "23:17:00 - cmdstanpy - INFO - Chain [1] start processing\n",
      "23:17:02 - cmdstanpy - INFO - Chain [1] done processing\n"
     ]
    },
    {
     "name": "stdout",
     "output_type": "stream",
     "text": [
      "additive 0.5 10.0 0.25658839652935883\n"
     ]
    },
    {
     "name": "stderr",
     "output_type": "stream",
     "text": [
      "23:17:04 - cmdstanpy - INFO - Chain [1] start processing\n"
     ]
    }
   ],
   "source": [
    "for mode in param_grid['seasonality_mode']:\n",
    "    for cps in param_grid['changepoint_prior_scale']:\n",
    "        for sps in param_grid['seasonality_prior_scale']:\n",
    "            # Create a model with the current hyperparameters\n",
    "            model = Prophet(seasonality_mode=mode, \n",
    "                            changepoint_prior_scale=cps, \n",
    "                            seasonality_prior_scale=sps, \n",
    "                            )\n",
    "            model.fit(train)\n",
    "\n",
    "            # Evaluate the model using Mean Squared Error (MSE) and cross validation\n",
    "            # df_cv = cross_validation(model, initial='4783 days', period='30 days', horizon='1 days')\n",
    "            # score = mean_squared_error(df_cv['y'], df_cv['yhat'])\n",
    "            future = model.make_future_dataframe(periods=train_size)\n",
    "            forecast = model.predict(future)\n",
    "            y_true = test['y'].values\n",
    "            y_pred = forecast['yhat'].values[-len(test):]\n",
    "            score = mean_squared_error(y_true, y_pred)\n",
    "            print(mode, cps, sps, score)\n",
    "\n",
    "            # Update best parameters\n",
    "            if score < best_score:\n",
    "                best_score = score\n",
    "                best_params = {\n",
    "                    'seasonality_mode': mode,\n",
    "                    'changepoint_prior_scale': cps,\n",
    "                    'seasonality_prior_scale': sps\n",
    "                }"
   ]
  },
  {
   "cell_type": "code",
   "execution_count": null,
   "metadata": {},
   "outputs": [
    {
     "data": {
      "text/plain": [
       "{'seasonality_mode': 'additive',\n",
       " 'changepoint_prior_scale': 0.01,\n",
       " 'seasonality_prior_scale': 10.0}"
      ]
     },
     "execution_count": 10,
     "metadata": {},
     "output_type": "execute_result"
    }
   ],
   "source": [
    "best_params"
   ]
  },
  {
   "cell_type": "code",
   "execution_count": null,
   "metadata": {},
   "outputs": [
    {
     "name": "stderr",
     "output_type": "stream",
     "text": [
      "23:04:15 - cmdstanpy - INFO - Chain [1] start processing\n",
      "23:04:16 - cmdstanpy - INFO - Chain [1] done processing\n"
     ]
    },
    {
     "data": {
      "text/plain": [
       "<prophet.forecaster.Prophet at 0x2c67fd7c820>"
      ]
     },
     "execution_count": 11,
     "metadata": {},
     "output_type": "execute_result"
    }
   ],
   "source": [
    "model = Prophet(**best_params)\n",
    "# for i in range(context_length):\n",
    "#     model.add_regressor(f'y_lag_{i}')\n",
    "model.fit(train)"
   ]
  },
  {
   "cell_type": "code",
   "execution_count": null,
   "metadata": {},
   "outputs": [
    {
     "data": {
      "text/html": [
       "<div>\n",
       "<style scoped>\n",
       "    .dataframe tbody tr th:only-of-type {\n",
       "        vertical-align: middle;\n",
       "    }\n",
       "\n",
       "    .dataframe tbody tr th {\n",
       "        vertical-align: top;\n",
       "    }\n",
       "\n",
       "    .dataframe thead th {\n",
       "        text-align: right;\n",
       "    }\n",
       "</style>\n",
       "<table border=\"1\" class=\"dataframe\">\n",
       "  <thead>\n",
       "    <tr style=\"text-align: right;\">\n",
       "      <th></th>\n",
       "      <th>ds</th>\n",
       "      <th>yhat</th>\n",
       "    </tr>\n",
       "  </thead>\n",
       "  <tbody>\n",
       "    <tr>\n",
       "      <th>0</th>\n",
       "      <td>2004-01-02</td>\n",
       "      <td>0.049148</td>\n",
       "    </tr>\n",
       "    <tr>\n",
       "      <th>1</th>\n",
       "      <td>2004-01-05</td>\n",
       "      <td>0.049760</td>\n",
       "    </tr>\n",
       "    <tr>\n",
       "      <th>2</th>\n",
       "      <td>2004-01-06</td>\n",
       "      <td>0.050542</td>\n",
       "    </tr>\n",
       "    <tr>\n",
       "      <th>3</th>\n",
       "      <td>2004-01-07</td>\n",
       "      <td>0.050984</td>\n",
       "    </tr>\n",
       "    <tr>\n",
       "      <th>4</th>\n",
       "      <td>2004-01-08</td>\n",
       "      <td>0.051044</td>\n",
       "    </tr>\n",
       "    <tr>\n",
       "      <th>...</th>\n",
       "      <td>...</td>\n",
       "      <td>...</td>\n",
       "    </tr>\n",
       "    <tr>\n",
       "      <th>5979</th>\n",
       "      <td>2023-11-26</td>\n",
       "      <td>0.892850</td>\n",
       "    </tr>\n",
       "    <tr>\n",
       "      <th>5980</th>\n",
       "      <td>2023-11-27</td>\n",
       "      <td>0.893547</td>\n",
       "    </tr>\n",
       "    <tr>\n",
       "      <th>5981</th>\n",
       "      <td>2023-11-28</td>\n",
       "      <td>0.894188</td>\n",
       "    </tr>\n",
       "    <tr>\n",
       "      <th>5982</th>\n",
       "      <td>2023-11-29</td>\n",
       "      <td>0.894525</td>\n",
       "    </tr>\n",
       "    <tr>\n",
       "      <th>5983</th>\n",
       "      <td>2023-11-30</td>\n",
       "      <td>0.894517</td>\n",
       "    </tr>\n",
       "  </tbody>\n",
       "</table>\n",
       "<p>5984 rows × 2 columns</p>\n",
       "</div>"
      ],
      "text/plain": [
       "             ds      yhat\n",
       "0    2004-01-02  0.049148\n",
       "1    2004-01-05  0.049760\n",
       "2    2004-01-06  0.050542\n",
       "3    2004-01-07  0.050984\n",
       "4    2004-01-08  0.051044\n",
       "...         ...       ...\n",
       "5979 2023-11-26  0.892850\n",
       "5980 2023-11-27  0.893547\n",
       "5981 2023-11-28  0.894188\n",
       "5982 2023-11-29  0.894525\n",
       "5983 2023-11-30  0.894517\n",
       "\n",
       "[5984 rows x 2 columns]"
      ]
     },
     "execution_count": 12,
     "metadata": {},
     "output_type": "execute_result"
    }
   ],
   "source": [
    "# future = data.copy().drop('y', axis=1)\n",
    "# future.reset_index(drop=True, inplace=True)\n",
    "future = model.make_future_dataframe(periods=test_size+30)\n",
    "forecast = model.predict(future)\n",
    "forecast = forecast[['ds', 'yhat']]\n",
    "forecast"
   ]
  },
  {
   "cell_type": "code",
   "execution_count": null,
   "metadata": {},
   "outputs": [],
   "source": [
    "forecast[['yhat']] = scaler.inverse_transform(forecast[['yhat']])\n",
    "data[['y']] = scaler.inverse_transform(data[['y']])\n"
   ]
  },
  {
   "cell_type": "code",
   "execution_count": null,
   "metadata": {},
   "outputs": [],
   "source": [
    "# y_true = test['y'].values\n",
    "# y_pred = forecast['yhat'].values[-len(test):]"
   ]
  },
  {
   "cell_type": "code",
   "execution_count": null,
   "metadata": {},
   "outputs": [
    {
     "data": {
      "image/png": "[encoded data removed]",
      "text/plain": [
       "<Figure size 1600x800 with 1 Axes>"
      ]
     },
     "metadata": {},
     "output_type": "display_data"
    }
   ],
   "source": [
    "plt.figure(figsize=(16,8))\n",
    "plt.plot(data['ds'], data['y'], label='Actual', color='blue')\n",
    "plt.title(f\"Prophet forecast for KRW/VND\")\n",
    "plt.plot(forecast['ds'][:len(data)], forecast['yhat'][:len(data)], label='Forecast', color='red')\n",
    "plt.legend()\n",
    "plt.savefig('./plots/prophet_krwvnd_train_val')\n",
    "plt.show()"
   ]
  },
  {
   "cell_type": "code",
   "execution_count": null,
   "metadata": {},
   "outputs": [
    {
     "data": {
      "text/html": [
       "<div>\n",
       "<style scoped>\n",
       "    .dataframe tbody tr th:only-of-type {\n",
       "        vertical-align: middle;\n",
       "    }\n",
       "\n",
       "    .dataframe tbody tr th {\n",
       "        vertical-align: top;\n",
       "    }\n",
       "\n",
       "    .dataframe thead th {\n",
       "        text-align: right;\n",
       "    }\n",
       "</style>\n",
       "<table border=\"1\" class=\"dataframe\">\n",
       "  <thead>\n",
       "    <tr style=\"text-align: right;\">\n",
       "      <th></th>\n",
       "      <th>ds</th>\n",
       "      <th>y</th>\n",
       "    </tr>\n",
       "  </thead>\n",
       "  <tbody>\n",
       "    <tr>\n",
       "      <th>0</th>\n",
       "      <td>2023-11-01</td>\n",
       "      <td>0.348330</td>\n",
       "    </tr>\n",
       "    <tr>\n",
       "      <th>1</th>\n",
       "      <td>2023-11-02</td>\n",
       "      <td>0.349403</td>\n",
       "    </tr>\n",
       "    <tr>\n",
       "      <th>2</th>\n",
       "      <td>2023-11-03</td>\n",
       "      <td>0.352313</td>\n",
       "    </tr>\n",
       "    <tr>\n",
       "      <th>3</th>\n",
       "      <td>2023-11-04</td>\n",
       "      <td>0.352271</td>\n",
       "    </tr>\n",
       "    <tr>\n",
       "      <th>4</th>\n",
       "      <td>2023-11-05</td>\n",
       "      <td>0.352271</td>\n",
       "    </tr>\n",
       "  </tbody>\n",
       "</table>\n",
       "</div>"
      ],
      "text/plain": [
       "           ds         y\n",
       "0  2023-11-01  0.348330\n",
       "1  2023-11-02  0.349403\n",
       "2  2023-11-03  0.352313\n",
       "3  2023-11-04  0.352271\n",
       "4  2023-11-05  0.352271"
      ]
     },
     "execution_count": 43,
     "metadata": {},
     "output_type": "execute_result"
    }
   ],
   "source": [
    "test_df = pd.read_csv(\"./krwvnd-test.csv\")\n",
    "test_df[\"Close\"] = test_df.Close.map(lambda x: np.float32(x.replace(\",\", \".\")))\n",
    "test_df[\"Date\"] = test_df.Date.map(lambda x: pd.to_datetime(x, dayfirst=True).date())\n",
    "test_df.rename(columns={'Date': 'ds', 'Close':'y'}, inplace=True)\n",
    "test_df.head()"
   ]
  },
  {
   "cell_type": "code",
   "execution_count": null,
   "metadata": {},
   "outputs": [
    {
     "data": {
      "text/html": [
       "<div>\n",
       "<style scoped>\n",
       "    .dataframe tbody tr th:only-of-type {\n",
       "        vertical-align: middle;\n",
       "    }\n",
       "\n",
       "    .dataframe tbody tr th {\n",
       "        vertical-align: top;\n",
       "    }\n",
       "\n",
       "    .dataframe thead th {\n",
       "        text-align: right;\n",
       "    }\n",
       "</style>\n",
       "<table border=\"1\" class=\"dataframe\">\n",
       "  <thead>\n",
       "    <tr style=\"text-align: right;\">\n",
       "      <th></th>\n",
       "      <th>ds</th>\n",
       "      <th>yhat</th>\n",
       "    </tr>\n",
       "  </thead>\n",
       "  <tbody>\n",
       "    <tr>\n",
       "      <th>5954</th>\n",
       "      <td>2023-11-01</td>\n",
       "      <td>0.389739</td>\n",
       "    </tr>\n",
       "    <tr>\n",
       "      <th>5955</th>\n",
       "      <td>2023-11-02</td>\n",
       "      <td>0.389783</td>\n",
       "    </tr>\n",
       "    <tr>\n",
       "      <th>5956</th>\n",
       "      <td>2023-11-03</td>\n",
       "      <td>0.389702</td>\n",
       "    </tr>\n",
       "    <tr>\n",
       "      <th>5957</th>\n",
       "      <td>2023-11-04</td>\n",
       "      <td>0.389319</td>\n",
       "    </tr>\n",
       "    <tr>\n",
       "      <th>5958</th>\n",
       "      <td>2023-11-05</td>\n",
       "      <td>0.389562</td>\n",
       "    </tr>\n",
       "    <tr>\n",
       "      <th>5959</th>\n",
       "      <td>2023-11-06</td>\n",
       "      <td>0.389799</td>\n",
       "    </tr>\n",
       "    <tr>\n",
       "      <th>5960</th>\n",
       "      <td>2023-11-07</td>\n",
       "      <td>0.389999</td>\n",
       "    </tr>\n",
       "    <tr>\n",
       "      <th>5961</th>\n",
       "      <td>2023-11-08</td>\n",
       "      <td>0.390083</td>\n",
       "    </tr>\n",
       "    <tr>\n",
       "      <th>5962</th>\n",
       "      <td>2023-11-09</td>\n",
       "      <td>0.390039</td>\n",
       "    </tr>\n",
       "    <tr>\n",
       "      <th>5963</th>\n",
       "      <td>2023-11-10</td>\n",
       "      <td>0.389874</td>\n",
       "    </tr>\n",
       "    <tr>\n",
       "      <th>5964</th>\n",
       "      <td>2023-11-11</td>\n",
       "      <td>0.389411</td>\n",
       "    </tr>\n",
       "    <tr>\n",
       "      <th>5965</th>\n",
       "      <td>2023-11-12</td>\n",
       "      <td>0.389582</td>\n",
       "    </tr>\n",
       "    <tr>\n",
       "      <th>5966</th>\n",
       "      <td>2023-11-13</td>\n",
       "      <td>0.389755</td>\n",
       "    </tr>\n",
       "    <tr>\n",
       "      <th>5967</th>\n",
       "      <td>2023-11-14</td>\n",
       "      <td>0.389899</td>\n",
       "    </tr>\n",
       "    <tr>\n",
       "      <th>5968</th>\n",
       "      <td>2023-11-15</td>\n",
       "      <td>0.389937</td>\n",
       "    </tr>\n",
       "    <tr>\n",
       "      <th>5969</th>\n",
       "      <td>2023-11-16</td>\n",
       "      <td>0.389856</td>\n",
       "    </tr>\n",
       "    <tr>\n",
       "      <th>5970</th>\n",
       "      <td>2023-11-17</td>\n",
       "      <td>0.389666</td>\n",
       "    </tr>\n",
       "    <tr>\n",
       "      <th>5971</th>\n",
       "      <td>2023-11-18</td>\n",
       "      <td>0.389188</td>\n",
       "    </tr>\n",
       "    <tr>\n",
       "      <th>5972</th>\n",
       "      <td>2023-11-19</td>\n",
       "      <td>0.389353</td>\n",
       "    </tr>\n",
       "    <tr>\n",
       "      <th>5973</th>\n",
       "      <td>2023-11-20</td>\n",
       "      <td>0.389531</td>\n",
       "    </tr>\n",
       "    <tr>\n",
       "      <th>5974</th>\n",
       "      <td>2023-11-21</td>\n",
       "      <td>0.389690</td>\n",
       "    </tr>\n",
       "    <tr>\n",
       "      <th>5975</th>\n",
       "      <td>2023-11-22</td>\n",
       "      <td>0.389749</td>\n",
       "    </tr>\n",
       "    <tr>\n",
       "      <th>5976</th>\n",
       "      <td>2023-11-23</td>\n",
       "      <td>0.389698</td>\n",
       "    </tr>\n",
       "    <tr>\n",
       "      <th>5977</th>\n",
       "      <td>2023-11-24</td>\n",
       "      <td>0.389544</td>\n",
       "    </tr>\n",
       "    <tr>\n",
       "      <th>5978</th>\n",
       "      <td>2023-11-25</td>\n",
       "      <td>0.389107</td>\n",
       "    </tr>\n",
       "    <tr>\n",
       "      <th>5979</th>\n",
       "      <td>2023-11-26</td>\n",
       "      <td>0.389317</td>\n",
       "    </tr>\n",
       "    <tr>\n",
       "      <th>5980</th>\n",
       "      <td>2023-11-27</td>\n",
       "      <td>0.389543</td>\n",
       "    </tr>\n",
       "    <tr>\n",
       "      <th>5981</th>\n",
       "      <td>2023-11-28</td>\n",
       "      <td>0.389750</td>\n",
       "    </tr>\n",
       "    <tr>\n",
       "      <th>5982</th>\n",
       "      <td>2023-11-29</td>\n",
       "      <td>0.389859</td>\n",
       "    </tr>\n",
       "    <tr>\n",
       "      <th>5983</th>\n",
       "      <td>2023-11-30</td>\n",
       "      <td>0.389857</td>\n",
       "    </tr>\n",
       "  </tbody>\n",
       "</table>\n",
       "</div>"
      ],
      "text/plain": [
       "             ds      yhat\n",
       "5954 2023-11-01  0.389739\n",
       "5955 2023-11-02  0.389783\n",
       "5956 2023-11-03  0.389702\n",
       "5957 2023-11-04  0.389319\n",
       "5958 2023-11-05  0.389562\n",
       "5959 2023-11-06  0.389799\n",
       "5960 2023-11-07  0.389999\n",
       "5961 2023-11-08  0.390083\n",
       "5962 2023-11-09  0.390039\n",
       "5963 2023-11-10  0.389874\n",
       "5964 2023-11-11  0.389411\n",
       "5965 2023-11-12  0.389582\n",
       "5966 2023-11-13  0.389755\n",
       "5967 2023-11-14  0.389899\n",
       "5968 2023-11-15  0.389937\n",
       "5969 2023-11-16  0.389856\n",
       "5970 2023-11-17  0.389666\n",
       "5971 2023-11-18  0.389188\n",
       "5972 2023-11-19  0.389353\n",
       "5973 2023-11-20  0.389531\n",
       "5974 2023-11-21  0.389690\n",
       "5975 2023-11-22  0.389749\n",
       "5976 2023-11-23  0.389698\n",
       "5977 2023-11-24  0.389544\n",
       "5978 2023-11-25  0.389107\n",
       "5979 2023-11-26  0.389317\n",
       "5980 2023-11-27  0.389543\n",
       "5981 2023-11-28  0.389750\n",
       "5982 2023-11-29  0.389859\n",
       "5983 2023-11-30  0.389857"
      ]
     },
     "execution_count": 57,
     "metadata": {},
     "output_type": "execute_result"
    }
   ],
   "source": [
    "forecast[-30:]"
   ]
  },
  {
   "cell_type": "code",
   "execution_count": null,
   "metadata": {},
   "outputs": [
    {
     "data": {
      "text/plain": [
       "0.001276509247241063"
      ]
     },
     "execution_count": 49,
     "metadata": {},
     "output_type": "execute_result"
    }
   ],
   "source": [
    "testY = test_df.y.values\n",
    "testPred = forecast[-30:].yhat.values\n",
    "# testPred\n",
    "# testPred = scaler.inverse_transform(testPred.reshape(-1, 1))\n",
    "# testY = scaler.inverse_transform(testY.reshape(-1, 1))\n",
    "testScore = mean_squared_error(testY, testPred)\n",
    "testScore"
   ]
  },
  {
   "cell_type": "code",
   "execution_count": null,
   "metadata": {},
   "outputs": [],
   "source": [
    "testX = data['y'].values[-96:]"
   ]
  },
  {
   "cell_type": "code",
   "execution_count": null,
   "metadata": {},
   "outputs": [],
   "source": [
    "denormalized_data = testX\n",
    "num_lookback = 96\n",
    "denormalized_data = denormalized_data[:num_lookback]"
   ]
  },
  {
   "cell_type": "code",
   "execution_count": null,
   "metadata": {},
   "outputs": [
    {
     "data": {
      "text/plain": [
       "array([0.34835768, 0.34829774, 0.34835494, 0.3481757 , 0.34486678,\n",
       "       0.34347802, 0.3428007 , 0.33903614, 0.3389194 , 0.33938754,\n",
       "       0.3413872 , 0.33908686, 0.33927846, 0.33762828, 0.3365877 ,\n",
       "       0.3365879 , 0.33696312, 0.33714962, 0.33762127, 0.34241486,\n",
       "       0.34495428, 0.34486935, 0.33793828, 0.3379381 , 0.33895728,\n",
       "       0.33824635, 0.34797326, 0.3462925 , 0.35123047, 0.35124132,\n",
       "       0.35123047, 0.35029545, 0.35029328, 0.35010892, 0.34576336,\n",
       "       0.3486311 , 0.34718627, 0.34862846, 0.34790233, 0.3463634 ,\n",
       "       0.34748933, 0.34771538, 0.34748793, 0.34756935, 0.34712696,\n",
       "       0.34931308, 0.34924504, 0.3503521 , 0.35082465, 0.35211912,\n",
       "       0.35151026, 0.35152593, 0.35560095, 0.35453057, 0.35558462,\n",
       "       0.35569817, 0.35450757, 0.35450774, 0.35450622, 0.35387444,\n",
       "       0.35409632, 0.3545214 , 0.35187912, 0.35389045, 0.35396388,\n",
       "       0.35388783, 0.35233793, 0.3507878 , 0.35312447, 0.35427895,\n",
       "       0.35348454, 0.3534703 , 0.35348323, 0.35477445, 0.35563833,\n",
       "       0.3569667 , 0.35370815, 0.35255128, 0.35255128, 0.35254997,\n",
       "       0.35403028, 0.35279384, 0.3535316 , 0.35331604, 0.3550638 ,\n",
       "       0.35446516, 0.3544702 , 0.35537115, 0.35487238, 0.3523893 ,\n",
       "       0.35118374, 0.34606606, 0.3460535 , 0.3460535 , 0.34943968,\n",
       "       0.34686083])"
      ]
     },
     "execution_count": 52,
     "metadata": {},
     "output_type": "execute_result"
    }
   ],
   "source": [
    "denormalized_data"
   ]
  },
  {
   "cell_type": "code",
   "execution_count": null,
   "metadata": {},
   "outputs": [
    {
     "data": {
      "image/png": "[encoded data removed]",
      "text/plain": [
       "<Figure size 640x480 with 1 Axes>"
      ]
     },
     "metadata": {},
     "output_type": "display_data"
    }
   ],
   "source": [
    "testScore = mean_squared_error(testY, testPred)\n",
    "\n",
    "plt.plot(denormalized_data, label=\"lookback data\")\n",
    "plt.plot(np.concatenate([np.ones(num_lookback) * np.nan, testPred.reshape(-1)]), label='prediction')\n",
    "plt.plot(np.concatenate([np.ones(num_lookback) * np.nan, testY.reshape(-1)]), label='ground truth')\n",
    "plt.axvline(x=denormalized_data.shape[0], c='r', linestyle='--')\n",
    "plt.title(f\"Prophet forecast with MSE={testScore:.6f}\")\n",
    "plt.legend()\n",
    "plt.savefig('./plots/lstm_krwvnd_test')\n",
    "plt.show()"
   ]
  },
  {
   "cell_type": "markdown",
   "metadata": {},
   "source": [
    "Best params for KRW/VND: {'seasonality_mode': 'additive',\n",
    " 'changepoint_prior_scale': 0.01,\n",
    " 'seasonality_prior_scale': 0.01}"
   ]
  },
  {
   "cell_type": "markdown",
   "metadata": {},
   "source": [
    "Best params for KRW/KZT: {'seasonality_mode': 'additive',\n",
    " 'changepoint_prior_scale': 0.01,\n",
    " 'seasonality_prior_scale': 1.0}"
   ]
  },
  {
   "cell_type": "code",
   "execution_count": null,
   "metadata": {},
   "outputs": [],
   "source": []
  }
 ],
 "metadata": {
  "kernelspec": {
   "display_name": "Python 3",
   "language": "python",
   "name": "python3"
  },
  "language_info": {
   "codemirror_mode": {
    "name": "ipython",
    "version": 3
   },
   "file_extension": ".py",
   "mimetype": "text/x-python",
   "name": "python",
   "nbconvert_exporter": "python",
   "pygments_lexer": "ipython3",
   "version": "3.10.11"
  }
 },
 "nbformat": 4,
 "nbformat_minor": 2
}
